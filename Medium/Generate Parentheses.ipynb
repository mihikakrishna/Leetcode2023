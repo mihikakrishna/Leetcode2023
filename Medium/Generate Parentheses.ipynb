{
 "cells": [
  {
   "attachments": {},
   "cell_type": "markdown",
   "metadata": {},
   "source": [
    "### Problem Statement ###\n",
    "\n",
    "Given n pairs of parentheses, write a function to generate all combinations of well-formed parentheses."
   ]
  },
  {
   "cell_type": "code",
   "execution_count": null,
   "metadata": {},
   "outputs": [],
   "source": [
    "class Solution:\n",
    "    def generateParenthesis(self, n: int) -> List[str]:\n",
    "        res = []\n",
    "        def recurse(s, num_open, num_close):\n",
    "            if num_open == num_close == n:\n",
    "                res.append(s)\n",
    "                return\n",
    "            if num_open != n:\n",
    "                recurse(s + \"(\", num_open + 1, num_close)\n",
    "                \n",
    "            if num_close < num_open:\n",
    "                recurse(s + \")\", num_open, num_close + 1)\n",
    "\n",
    "            return\n",
    "\n",
    "        recurse(\"(\", 1, 0)\n",
    "        return res           "
   ]
  },
  {
   "attachments": {},
   "cell_type": "markdown",
   "metadata": {},
   "source": [
    "### Complexity Analysis ###\n",
    "\n",
    "## Time ##\n",
    "\n",
    "- Time complexity - O(2^N)\n",
    "    - Time complexity of tree problems = # of nodes * work in each node\n",
    "    - Here, # of nodes = # of branches ^ max depth of recursion tree\n",
    "        - In this case, this evaluates to 2^N\n",
    "\n",
    "\n",
    "## Space ##\n",
    "\n",
    "- O(N)\n",
    "    - The max # of recursive stack calls we will make is O(N)"
   ]
  }
 ],
 "metadata": {
  "kernelspec": {
   "display_name": "base",
   "language": "python",
   "name": "python3"
  },
  "language_info": {
   "name": "python",
   "version": "3.10.9"
  },
  "orig_nbformat": 4
 },
 "nbformat": 4,
 "nbformat_minor": 2
}
