{
 "cells": [
  {
   "attachments": {},
   "cell_type": "markdown",
   "metadata": {},
   "source": [
    "### Problem Statement ###\n",
    "Given a string s, find the length of the longest substring without repeating characters."
   ]
  },
  {
   "cell_type": "code",
   "execution_count": null,
   "metadata": {},
   "outputs": [],
   "source": [
    "class Solution:\n",
    "    def lengthOfLongestSubstring(self, s: str) -> int:\n",
    "        seen = set()\n",
    "        maxLen = 0\n",
    "        l, r = 0, 0\n",
    "\n",
    "        while r < len(s):\n",
    "            if s[r] not in seen:\n",
    "                seen.add(s[r])\n",
    "                r += 1\n",
    "            else:\n",
    "                seen.remove(s[l])\n",
    "                l += 1\n",
    "            maxLen = max(r - l, maxLen)\n",
    "\n",
    "        return maxLen"
   ]
  },
  {
   "attachments": {},
   "cell_type": "markdown",
   "metadata": {},
   "source": [
    "### Complexity Analysis ###\n",
    "\n",
    "## Time ##\n",
    "\n",
    "- O(N)\n",
    "    - We use sliding window approach\n",
    "    - While the element a the right pointer is a duplicate, we increment the left pointer and remove the element at the left pointer from the set\n",
    "    - We keep track of maxLen in each iteration\n",
    "\n",
    "## Space ##\n",
    "\n",
    "- O(N)\n",
    "    - Since we use a set that could potentially hold the entire string if there are no duplicates"
   ]
  }
 ],
 "metadata": {
  "kernelspec": {
   "display_name": "base",
   "language": "python",
   "name": "python3"
  },
  "language_info": {
   "name": "python",
   "version": "3.10.9"
  },
  "orig_nbformat": 4
 },
 "nbformat": 4,
 "nbformat_minor": 2
}
