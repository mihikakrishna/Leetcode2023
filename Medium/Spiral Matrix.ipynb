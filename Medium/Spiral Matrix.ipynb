{
 "cells": [
  {
   "attachments": {},
   "cell_type": "markdown",
   "metadata": {},
   "source": [
    "### Problem Statement ###\n",
    "\n",
    "Given an m x n matrix, return all elements of the matrix in spiral order."
   ]
  },
  {
   "cell_type": "code",
   "execution_count": null,
   "metadata": {},
   "outputs": [],
   "source": [
    "from collections import deque\n",
    "class Solution:\n",
    "    NR = 0\n",
    "    NC = 0\n",
    "\n",
    "    def isValid(self, r, c, move, matrix):\n",
    "        return (0 <= (r + move[0]) < Solution.NR \n",
    "            and 0 <= (c + move[1]) < Solution.NC \n",
    "            and (matrix[r + move[0]][c + move[1]] != 'X'))\n",
    "\n",
    "    def spiralOrder(self, matrix: List[List[int]]) -> List[int]:\n",
    "        moves = deque([(0,1),(1,0),(0,-1),(-1,0)])\n",
    "        r, c = 0, -1\n",
    "        \n",
    "        Solution.NR = len(matrix)\n",
    "        Solution.NC = len(matrix[0])\n",
    "        numSeen = 0\n",
    "\n",
    "        res = []\n",
    "\n",
    "        while numSeen != Solution.NR * Solution.NC:\n",
    "            move = moves.popleft()\n",
    "            while self.isValid(r, c, move, matrix):\n",
    "                r += move[0]\n",
    "                c += move[1]\n",
    "                res.append(matrix[r][c])\n",
    "                matrix[r][c] = 'X'\n",
    "                numSeen += 1\n",
    "            moves.append(move)\n",
    "        \n",
    "        return res"
   ]
  },
  {
   "attachments": {},
   "cell_type": "markdown",
   "metadata": {},
   "source": [
    "### Complexity Analysis ###\n",
    "\n",
    "## Time ##\n",
    "\n",
    "- O(m.n)\n",
    "\n",
    "## Space ##\n",
    "\n",
    "- O(1)"
   ]
  },
  {
   "cell_type": "markdown",
   "metadata": {},
   "source": [
    "### Complexity Analysis ###\n",
    "\n",
    "## Time ##\n",
    "\n",
    "- O(m.n)\n",
    "\n",
    "## Space ##\n",
    "\n",
    "- O(1)"
   ]
  }
 ],
 "metadata": {
  "kernelspec": {
   "display_name": "base",
   "language": "python",
   "name": "python3"
  },
  "language_info": {
   "name": "python",
   "version": "3.10.9"
  },
  "orig_nbformat": 4
 },
 "nbformat": 4,
 "nbformat_minor": 2
}
