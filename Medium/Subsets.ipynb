{
 "cells": [
  {
   "attachments": {},
   "cell_type": "markdown",
   "metadata": {},
   "source": [
    "### Problem Statement ###\n",
    "\n",
    "Given an integer array nums of unique elements, return all possible subsets (the power set).\n",
    "\n",
    "The solution set must not contain duplicate subsets. Return the solution in any order.\n",
    "\n"
   ]
  },
  {
   "cell_type": "code",
   "execution_count": null,
   "metadata": {},
   "outputs": [],
   "source": [
    "class Solution:\n",
    "    def findSubsets(self, nums, idx, curr, res):\n",
    "        if idx == len(nums):\n",
    "            res.append(curr)\n",
    "            return\n",
    "        self.findSubsets(nums, idx+1, curr, res)\n",
    "        self.findSubsets(nums, idx+1, curr + [nums[idx]], res)\n",
    "        return\n",
    "    def subsets(self, nums: List[int]) -> List[List[int]]:\n",
    "        res = []\n",
    "        self.findSubsets(nums, 0, [], res)\n",
    "        return res"
   ]
  },
  {
   "attachments": {
    "image.png": {
     "image/png": "[encoded data removed]"
    }
   },
   "cell_type": "markdown",
   "metadata": {},
   "source": [
    "### Complexity Analysis ###\n",
    "\n",
    "Example : Input = [1,2,3]\n",
    "Recursive call tree:\n",
    "\n",
    "![image.png](attachment:image.png)\n",
    "\n",
    "## Time ##\n",
    "\n",
    "- Number of nodes in the tree:\n",
    " = (# of branches) ^ (max depth of tree)\n",
    " = O(     2         ^        N         )\n",
    "- However, we also copy the entire array for the next recursive call\n",
    " =  O(N)\n",
    "- So overall time compelxity = O(N * 2^N)\n",
    "\n",
    "## Space ##\n",
    "- We will have at most N recursive stack frames at once.\n",
    "- If we include the space of the result array: O(N * 2^N)\n",
    "- If we don't include the space of the result: O(N)\n"
   ]
  }
 ],
 "metadata": {
  "kernelspec": {
   "display_name": "base",
   "language": "python",
   "name": "python3"
  },
  "language_info": {
   "name": "python",
   "version": "3.10.9"
  },
  "orig_nbformat": 4
 },
 "nbformat": 4,
 "nbformat_minor": 2
}
