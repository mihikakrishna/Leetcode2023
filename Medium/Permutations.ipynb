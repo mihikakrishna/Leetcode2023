{
 "cells": [
  {
   "attachments": {},
   "cell_type": "markdown",
   "metadata": {},
   "source": [
    "### Problem Statement ###\n",
    "Given an array nums of distinct integers, return all the possible permutations. You can return the answer in any order."
   ]
  },
  {
   "cell_type": "code",
   "execution_count": null,
   "metadata": {},
   "outputs": [],
   "source": [
    "class Solution:\n",
    "    def permute(self, nums: List[int]) -> List[List[int]]:\n",
    "        def dfs(path, used, res):\n",
    "            if len(path) == len(nums):\n",
    "                res.append(path[:])\n",
    "                return\n",
    "\n",
    "            for i, letter in enumerate(nums):\n",
    "                # skip used letters\n",
    "                if used[i]:\n",
    "                    continue\n",
    "\n",
    "                # add letter to permutation, mark letter as used\n",
    "                path.append(letter)\n",
    "                used[i] = True\n",
    "                dfs(path, used, res)\n",
    "                \n",
    "                # remove letter from permutation, mark letter as unused\n",
    "                path.pop()\n",
    "                used[i] = False\n",
    "            \n",
    "        res = []\n",
    "        dfs([], [False] * len(nums), res)\n",
    "        return res"
   ]
  },
  {
   "attachments": {},
   "cell_type": "markdown",
   "metadata": {},
   "source": [
    "### Complexity Analysis ###\n",
    "\n",
    "## Time ##\n",
    "\n",
    "- O(N!) \n",
    "    - We recurse and fine N! possible permutations\n",
    "\n",
    "## Space ##\n",
    "\n",
    "- O(N) - if result doesn't matter\n",
    "- O(N!) - if result does matter"
   ]
  }
 ],
 "metadata": {
  "kernelspec": {
   "display_name": "base",
   "language": "python",
   "name": "python3"
  },
  "language_info": {
   "name": "python",
   "version": "3.10.9"
  },
  "orig_nbformat": 4
 },
 "nbformat": 4,
 "nbformat_minor": 2
}
