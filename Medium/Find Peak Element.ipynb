{
 "cells": [
  {
   "attachments": {},
   "cell_type": "markdown",
   "metadata": {},
   "source": [
    "### Problem Statement ###\n",
    "\n",
    "A peak element is an element that is strictly greater than its neighbors.\n",
    "\n",
    "Given a 0-indexed integer array nums, find a peak element, and return its index. If the array contains multiple peaks, return the index to any of the peaks.\n",
    "\n",
    "You may imagine that nums[-1] = nums[n] = -∞. In other words, an element is always considered to be strictly greater than a neighbor that is outside the array.\n",
    "\n",
    "You must write an algorithm that runs in O(log n) time."
   ]
  },
  {
   "cell_type": "code",
   "execution_count": null,
   "metadata": {},
   "outputs": [],
   "source": [
    "class Solution:\n",
    "    def findPeakElement(self, nums: List[int]) -> int:\n",
    "        # Define the initial search interval as the entire array\n",
    "        l, r = 0, len(nums) - 1\n",
    "\n",
    "        # Continue as long as the left boundary is less than the right boundary\n",
    "        while l < r:\n",
    "            # Calculate the middle of the interval\n",
    "            # We use this calculation to avoid potential integer overflow\n",
    "            m = l + (r - l) // 2\n",
    "\n",
    "            # If the middle element is less than its right neighbor,\n",
    "            # there must be a peak to the right, so shift the search interval to the right\n",
    "            if nums[m] < nums[m + 1]:\n",
    "                l = m + 1\n",
    "            # If the middle element is less than its left neighbor,\n",
    "            # there must be a peak to the left, so shift the search interval to the left\n",
    "            elif nums[m] < nums[m - 1]:\n",
    "                r = m - 1\n",
    "            # If the middle element is greater than both its neighbors,\n",
    "            # then it is a peak, so we can return its index\n",
    "            else:\n",
    "                return m\n",
    "        \n",
    "        # If we've narrowed our search to a single element (i.e., l == r),\n",
    "        # then that element is a peak, and we return its index\n",
    "        return r\n"
   ]
  },
  {
   "attachments": {},
   "cell_type": "markdown",
   "metadata": {},
   "source": [
    "### Complexity Analysis ###\n",
    "\n",
    "## Time ##\n",
    "\n",
    "- O(log N)\n",
    "\n",
    "## Space ##\n",
    "\n",
    "- O(1)"
   ]
  }
 ],
 "metadata": {
  "kernelspec": {
   "display_name": "base",
   "language": "python",
   "name": "python3"
  },
  "language_info": {
   "name": "python",
   "version": "3.10.9"
  },
  "orig_nbformat": 4
 },
 "nbformat": 4,
 "nbformat_minor": 2
}
