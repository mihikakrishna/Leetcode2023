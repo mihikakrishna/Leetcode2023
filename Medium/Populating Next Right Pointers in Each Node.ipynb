{
 "cells": [
  {
   "attachments": {},
   "cell_type": "markdown",
   "metadata": {},
   "source": [
    "### Problem Statement ###\n",
    "\n",
    "You are given a perfect binary tree where all leaves are on the same level, and every parent has two children. The binary tree has the following definition:\n",
    "\n",
    "struct Node<br> \n",
    "{<br> \n",
    "  &emsp;int val;<br> \n",
    "  &emsp;Node *left;<br> \n",
    "  &emsp;Node *right;<br> \n",
    "  &emsp;Node *next;<br> \n",
    "}<br> \n",
    "\n",
    "Populate each next pointer to point to its next right node. If there is no next right node, the next pointer should be set to NULL.\n",
    "\n",
    "Initially, all next pointers are set to NULL."
   ]
  },
  {
   "cell_type": "code",
   "execution_count": null,
   "metadata": {},
   "outputs": [],
   "source": [
    "\"\"\"\n",
    "# Definition for a Node.\n",
    "class Node:\n",
    "    def __init__(self, val: int = 0, left: 'Node' = None, right: 'Node' = None, next: 'Node' = None):\n",
    "        self.val = val\n",
    "        self.left = left\n",
    "        self.right = right\n",
    "        self.next = next\n",
    "\"\"\"\n",
    "from collections import deque\n",
    "class Solution:\n",
    "    def connect(self, root: 'Optional[Node]') -> 'Optional[Node]':\n",
    "        if not root:\n",
    "            return root\n",
    "\n",
    "        q = deque([root])\n",
    "\n",
    "        while q:\n",
    "            level_size = len(q)\n",
    "\n",
    "            for i in range(level_size):\n",
    "                node = q.popleft()\n",
    "\n",
    "                if i < level_size - 1:\n",
    "                    node.next = q[0] # peek next value in the queue\n",
    "\n",
    "                # since next pointer is initialized to None, \n",
    "                # we don't have to do anything for the last element in the level. \n",
    "\n",
    "                if node.left:\n",
    "                    q.append(node.left)\n",
    "                if node.right:\n",
    "                    q.append(node.right)\n",
    "                \n",
    "        return root"
   ]
  },
  {
   "attachments": {},
   "cell_type": "markdown",
   "metadata": {},
   "source": [
    "### Complexity Analysis ###\n",
    "\n",
    "## Time ##\n",
    "\n",
    "- O(N), N is the number of nodes in the BST\n",
    "\n",
    "## Space ##\n",
    "\n",
    "- O(N), we can have a max of N nodes in the queue at any given time"
   ]
  }
 ],
 "metadata": {
  "kernelspec": {
   "display_name": "base",
   "language": "python",
   "name": "python3"
  },
  "language_info": {
   "name": "python",
   "version": "3.10.9"
  },
  "orig_nbformat": 4
 },
 "nbformat": 4,
 "nbformat_minor": 2
}
