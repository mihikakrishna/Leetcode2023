{
 "cells": [
  {
   "attachments": {},
   "cell_type": "markdown",
   "metadata": {},
   "source": [
    "### Problem Statement ###\n",
    "\n",
    "You are given an integer array coins representing coins of different denominations and an integer amount representing a total amount of money.\n",
    "\n",
    "Return the fewest number of coins that you need to make up that amount. If that amount of money cannot be made up by any combination of the coins, return -1.\n",
    "\n",
    "You may assume that you have an infinite number of each kind of coin."
   ]
  },
  {
   "cell_type": "code",
   "execution_count": null,
   "metadata": {},
   "outputs": [],
   "source": [
    "class Solution:\n",
    "    def coinChange(self, coins: List[int], amount: int) -> int:\n",
    "        # Base cases: if the amount is 0 or there are no coins, return 0\n",
    "        if amount == 0 or not coins:\n",
    "            return 0\n",
    "        \n",
    "        # Initialize a list to track the minimum coins needed for each amount.\n",
    "        # Set each value to 'amount + 1' as a placeholder. This acts as 'infinity'\n",
    "        # The length of the list is amount + 1 to represent every value from 0 to amount inclusive.\n",
    "        dp = [(amount + 1)] * (amount + 1)\n",
    "        \n",
    "        # Base case: The minimum coins needed for amount 0 is 0.\n",
    "        dp[0] = 0\n",
    "        \n",
    "        # For every amount starting from 1 to the target amount\n",
    "        for a in range(1, amount + 1):\n",
    "            # Try using each coin in the given coins list\n",
    "            for c in coins:\n",
    "                # If the current amount (a) is greater than or equal to the current coin (c),\n",
    "                # try to see if using the current coin leads to a solution with fewer coins\n",
    "                if a - c >= 0:\n",
    "                    dp[a] = min(dp[a], dp[a-c] + 1)\n",
    "        \n",
    "        # If dp[amount] remains 'amount + 1', it's impossible to form the amount with the given coins\n",
    "        # Hence, return -1 in that case. Otherwise, return dp[amount], which is the minimum number of coins.\n",
    "        return dp[amount] if dp[amount] != (amount + 1) else -1\n"
   ]
  },
  {
   "attachments": {},
   "cell_type": "markdown",
   "metadata": {},
   "source": [
    "### Complexity Analysis ###\n",
    "\n",
    "## Time ##\n",
    "\n",
    "- O(len(coins) x amount)\n",
    "\n",
    "## Space ##\n",
    "\n",
    "- O(amount)"
   ]
  }
 ],
 "metadata": {
  "kernelspec": {
   "display_name": "base",
   "language": "python",
   "name": "python3"
  },
  "language_info": {
   "name": "python",
   "version": "3.10.9"
  },
  "orig_nbformat": 4
 },
 "nbformat": 4,
 "nbformat_minor": 2
}
