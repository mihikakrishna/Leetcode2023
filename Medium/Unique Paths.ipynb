{
 "cells": [
  {
   "attachments": {},
   "cell_type": "markdown",
   "metadata": {},
   "source": [
    "### Problem Statement ###\n",
    "\n",
    "There is a robot on an m x n grid. The robot is initially located at the top-left corner (i.e., grid[0][0]). The robot tries to move to the bottom-right corner (i.e., grid[m - 1][n - 1]). The robot can only move either down or right at any point in time.\n",
    "\n",
    "Given the two integers m and n, return the number of possible unique paths that the robot can take to reach the bottom-right corner.\n",
    "\n",
    "The test cases are generated so that the answer will be less than or equal to 2 * 109."
   ]
  },
  {
   "cell_type": "code",
   "execution_count": null,
   "metadata": {},
   "outputs": [],
   "source": [
    "class Solution:\n",
    "    def _uniquePathsFromCell(self, m, n, r, c, memo):\n",
    "        if r >= m or c >= n:\n",
    "            return 0\n",
    "        if r == m - 1 and c == n - 1:\n",
    "            return 1\n",
    "\n",
    "        if (r, c) not in memo:\n",
    "            right = self._uniquePathsFromCell(m, n, r, c + 1, memo)\n",
    "            down = self._uniquePathsFromCell(m, n, r + 1, c, memo)\n",
    "            memo[(r, c)] = right + down\n",
    "        \n",
    "        return memo[(r, c)]\n",
    "\n",
    "    def uniquePaths(self, m: int, n: int) -> int:\n",
    "        return self._uniquePathsFromCell(m, n, 0, 0, {})\n"
   ]
  },
  {
   "attachments": {},
   "cell_type": "markdown",
   "metadata": {},
   "source": [
    "### Complexity Analysis ###\n",
    "\n",
    "## Time ##\n",
    "\n",
    "- O(m.n)\n",
    "\n",
    "## Space ##\n",
    "\n",
    "- O(m.n)"
   ]
  }
 ],
 "metadata": {
  "kernelspec": {
   "display_name": "base",
   "language": "python",
   "name": "python3"
  },
  "language_info": {
   "name": "python",
   "version": "3.10.9"
  },
  "orig_nbformat": 4
 },
 "nbformat": 4,
 "nbformat_minor": 2
}
