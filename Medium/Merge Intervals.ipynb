{
 "cells": [
  {
   "attachments": {},
   "cell_type": "markdown",
   "metadata": {},
   "source": [
    "### Problem Statement ###\n",
    "\n",
    "Given an array of intervals where intervals[i] = [starti, endi], merge all overlapping intervals, and return an array of the non-overlapping intervals that cover all the intervals in the input."
   ]
  },
  {
   "cell_type": "code",
   "execution_count": null,
   "metadata": {},
   "outputs": [],
   "source": [
    "class Solution:\n",
    "    def merge(self, intervals: List[List[int]]) -> List[List[int]]:\n",
    "        intervals.sort()\n",
    "        currInterval = intervals[0]\n",
    "        res = []\n",
    "\n",
    "        for i in range(1, len(intervals)):\n",
    "            if intervals[i][0] <= currInterval[1]:\n",
    "                currInterval[0] = min(currInterval[0], intervals[i][0])\n",
    "                currInterval[1] = max(currInterval[1], intervals[i][1])\n",
    "            else:\n",
    "                res.append(currInterval)\n",
    "                currInterval = intervals[i]\n",
    "        \n",
    "        res.append(currInterval)\n",
    "        return res"
   ]
  },
  {
   "attachments": {},
   "cell_type": "markdown",
   "metadata": {},
   "source": [
    "### Complexity Analysis ###\n",
    "\n",
    "## Time ##\n",
    "\n",
    "- O(n), n = len(intervals)\n",
    "\n",
    "## Space ##\n",
    "\n",
    "- O(n) if return value space is included, else O(1)"
   ]
  }
 ],
 "metadata": {
  "kernelspec": {
   "display_name": "base",
   "language": "python",
   "name": "python3"
  },
  "language_info": {
   "name": "python",
   "version": "3.10.9"
  },
  "orig_nbformat": 4
 },
 "nbformat": 4,
 "nbformat_minor": 2
}
