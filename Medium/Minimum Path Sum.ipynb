{
 "cells": [
  {
   "attachments": {},
   "cell_type": "markdown",
   "metadata": {},
   "source": [
    "### Problem Statement ###\n",
    "\n",
    "Given a m x n grid filled with non-negative numbers, find a path from top left to bottom right, which minimizes the sum of all numbers along its path.\n",
    "\n",
    "Note: You can only move either down or right at any point in time.\n",
    "\n"
   ]
  },
  {
   "cell_type": "code",
   "execution_count": null,
   "metadata": {},
   "outputs": [],
   "source": [
    "class Solution:\n",
    "    def minPathSum(self, grid: List[List[int]]) -> int:\n",
    "        \n",
    "        # Get the dimensions of the given grid\n",
    "        ROWS, COLS = len(grid), len(grid[0])\n",
    "        \n",
    "        # Create a 2D array 'res' initialized with 'infinity'.\n",
    "        # This will store the minimum path sum from each cell to the bottom-right corner.\n",
    "        # We add an extra row and column for simplicity in boundary conditions.\n",
    "        res = [[float(\"inf\")] * (COLS + 1) for r in range(ROWS + 1)]\n",
    "        \n",
    "        # Setting the cell to the right of the bottom-right corner to 0,\n",
    "        # because this is our base condition. There is no cost associated with stepping outside the grid.\n",
    "        res[ROWS - 1][COLS] = 0\n",
    "\n",
    "        # Iterate over the grid starting from the bottom-right corner and move upwards and leftwards\n",
    "        for r in range(ROWS - 1, -1, -1):\n",
    "            for c in range(COLS - 1, -1, -1):\n",
    "                # The minimum path sum for a cell is the value of that cell plus \n",
    "                # the minimum of the two adjacent cells (right and down).\n",
    "                res[r][c] = grid[r][c] + min(res[r + 1][c], res[r][c + 1])\n",
    "\n",
    "        # The top-left corner of 'res' will now have the minimum path sum from the top-left \n",
    "        # corner of the grid to the bottom-right corner.\n",
    "        return res[0][0]\n"
   ]
  },
  {
   "attachments": {},
   "cell_type": "markdown",
   "metadata": {},
   "source": [
    "### Complexity Analysis ###\n",
    "\n",
    "## Time ##\n",
    "\n",
    "- O(ROWS x COLS)\n",
    "    - ROWS = len(grid)\n",
    "    - COLS = len(grid[0])\n",
    "\n",
    "## Space ##\n",
    "\n",
    "- O(ROWS x COLS)"
   ]
  }
 ],
 "metadata": {
  "kernelspec": {
   "display_name": "base",
   "language": "python",
   "name": "python3"
  },
  "language_info": {
   "name": "python",
   "version": "3.10.9"
  },
  "orig_nbformat": 4
 },
 "nbformat": 4,
 "nbformat_minor": 2
}
