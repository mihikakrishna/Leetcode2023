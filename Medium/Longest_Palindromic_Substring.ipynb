{
 "cells": [
  {
   "attachments": {},
   "cell_type": "markdown",
   "metadata": {},
   "source": [
    "### Problem Statement ###\n",
    "Given a string s, return the longest palindromic substring in s."
   ]
  },
  {
   "cell_type": "code",
   "execution_count": null,
   "metadata": {},
   "outputs": [],
   "source": [
    "from collections import deque\n",
    "class Solution:\n",
    "    \n",
    "    def longestPalindrome(self, s: str) -> str:\n",
    "        max_l, max_r = 0, 0\n",
    "        longestSubstrLen = 0\n",
    "\n",
    "        def expand(l, r):\n",
    "            while 0 <= l <= r < len(s) and s[l] == s[r]:\n",
    "                l -= 1\n",
    "                r += 1\n",
    "            l += 1\n",
    "            return l, r\n",
    "\n",
    "        for i in range(len(s)):\n",
    "            odd_l, odd_r   = expand(i, i)\n",
    "            even_l, even_r = expand(i, i+1)\n",
    "\n",
    "            if odd_r - odd_l > longestSubstrLen:\n",
    "                longestSubstrLen = odd_r - odd_l\n",
    "                max_l, max_r = odd_l, odd_r\n",
    "\n",
    "            if even_r - even_l > longestSubstrLen:\n",
    "                longestSubstrLen = even_r - even_l\n",
    "                max_l, max_r = even_l, even_r\n",
    "            \n",
    "        return s[max_l : max_r]"
   ]
  },
  {
   "attachments": {},
   "cell_type": "markdown",
   "metadata": {},
   "source": [
    "### Complexity Analysis ###\n",
    "\n",
    "## Time ##\n",
    "\n",
    "- O(N^2)\n",
    "    - We are expanding outwards from each character in the string, checking if it is a palindrome\n",
    "\n",
    "## Space ##\n",
    "\n",
    "- O(1)"
   ]
  }
 ],
 "metadata": {
  "kernelspec": {
   "display_name": "base",
   "language": "python",
   "name": "python3"
  },
  "language_info": {
   "name": "python",
   "version": "3.10.9"
  },
  "orig_nbformat": 4
 },
 "nbformat": 4,
 "nbformat_minor": 2
}
