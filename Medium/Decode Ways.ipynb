{
 "cells": [
  {
   "attachments": {},
   "cell_type": "markdown",
   "metadata": {},
   "source": [
    "### Problem Statement ###\n",
    "\n",
    "A message containing letters from A-Z can be encoded into numbers using the following mapping:\n",
    "\n",
    "'A' -> \"1\"\n",
    "'B' -> \"2\"\n",
    "...\n",
    "'Z' -> \"26\"\n",
    "To decode an encoded message, all the digits must be grouped then mapped back into letters using the reverse of the mapping above (there may be multiple ways). For example, \"11106\" can be mapped into:\n",
    "\n",
    "\"AAJF\" with the grouping (1 1 10 6)\n",
    "\"KJF\" with the grouping (11 10 6)\n",
    "Note that the grouping (1 11 06) is invalid because \"06\" cannot be mapped into 'F' since \"6\" is different from \"06\".\n",
    "\n",
    "Given a string s containing only digits, return the number of ways to decode it.\n",
    "\n",
    "The test cases are generated so that the answer fits in a 32-bit integer."
   ]
  },
  {
   "cell_type": "code",
   "execution_count": null,
   "metadata": {},
   "outputs": [],
   "source": [
    "class Solution:\n",
    "    def recurse(self, s, i, memo):\n",
    "        if i == len(s):\n",
    "            return 1\n",
    "\n",
    "        if s[i] == '0':\n",
    "            return 0\n",
    "\n",
    "        plusOne, plusTwo = 0, 0\n",
    "        if i + 1 < len(s) and int(s[i:i+2]) <= 26:\n",
    "            if (i + 2) in memo:\n",
    "                plusTwo = memo[i + 2]\n",
    "            else:\n",
    "                plusTwo = self.recurse(s, i + 2, memo)\n",
    "\n",
    "        if 1 <= int(s[i]) <= 9:\n",
    "            if (i + 1) in memo:\n",
    "                plusOne = memo[i + 1]\n",
    "            else:\n",
    "                plusOne = self.recurse(s, i + 1, memo)\n",
    "\n",
    "        memo[i] = plusOne + plusTwo\n",
    "        return memo[i]\n",
    "\n",
    "    def numDecodings(self, s: str) -> int:\n",
    "        memo = {}\n",
    "        return self.recurse(s, 0, memo)"
   ]
  },
  {
   "attachments": {},
   "cell_type": "markdown",
   "metadata": {},
   "source": [
    "### Complexity Analysis ###\n",
    "\n",
    "## Time ##\n",
    "\n",
    "- O(N), instead of potentially calculating 2^N nodes, we just check memo, so that the value for each position in the input array is only computed once\n",
    "\n",
    "## Space ##\n",
    "\n",
    "- O(N), we calculate and store values for each position of the array in memo"
   ]
  }
 ],
 "metadata": {
  "kernelspec": {
   "display_name": "base",
   "language": "python",
   "name": "python3"
  },
  "language_info": {
   "name": "python",
   "version": "3.10.9"
  },
  "orig_nbformat": 4
 },
 "nbformat": 4,
 "nbformat_minor": 2
}
