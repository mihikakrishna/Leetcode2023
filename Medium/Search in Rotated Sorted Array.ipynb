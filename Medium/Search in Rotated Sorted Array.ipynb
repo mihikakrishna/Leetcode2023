{
 "cells": [
  {
   "attachments": {},
   "cell_type": "markdown",
   "metadata": {},
   "source": [
    "### Problem Statement ###\n",
    "\n",
    "There is an integer array nums sorted in ascending order (with distinct values).\n",
    "\n",
    "Prior to being passed to your function, nums is possibly rotated at an unknown pivot index k (1 <= k < nums.length) such that the resulting array is [nums[k], nums[k+1], ..., nums[n-1], nums[0], nums[1], ..., nums[k-1]] (0-indexed). For example, [0,1,2,4,5,6,7] might be rotated at pivot index 3 and become [4,5,6,7,0,1,2].\n",
    "\n",
    "Given the array nums after the possible rotation and an integer target, return the index of target if it is in nums, or -1 if it is not in nums.\n",
    "\n",
    "You must write an algorithm with O(log n) runtime complexity."
   ]
  },
  {
   "cell_type": "code",
   "execution_count": null,
   "metadata": {},
   "outputs": [],
   "source": [
    "class Solution:\n",
    "    def search(self, nums: List[int], target: int) -> int:\n",
    "        pivot = -1\n",
    "        l, r = 0, len(nums) - 1\n",
    "        res = 0\n",
    "\n",
    "        while l <= r:\n",
    "            m = (r + l) // 2\n",
    "            if nums[l] > nums[m]:\n",
    "                r = m\n",
    "            elif nums[l] < nums[m]:\n",
    "                l = m\n",
    "            else:\n",
    "                break\n",
    "        pivot = l\n",
    "\n",
    "        if nums[0] <= target <= nums[pivot]:\n",
    "            l, r = 0, pivot\n",
    "            while l <= r:\n",
    "                m = (r + l) // 2\n",
    "                if target > nums[m]:\n",
    "                    l = m + 1\n",
    "                elif target < nums[m]:\n",
    "                    r = m - 1\n",
    "                else:\n",
    "                    return m\n",
    "            return -1\n",
    "        else:\n",
    "            l, r = pivot + 1, len(nums) - 1\n",
    "            while l <= r:\n",
    "                m = (r + l) // 2\n",
    "                if target > nums[m]:\n",
    "                    l = m + 1\n",
    "                elif target < nums[m]:\n",
    "                    r = m - 1\n",
    "                else:\n",
    "                    return m\n",
    "            return -1"
   ]
  },
  {
   "attachments": {},
   "cell_type": "markdown",
   "metadata": {},
   "source": [
    "### Complexity Analysis ###\n",
    "\n",
    "## Time ##\n",
    "\n",
    "- O(Log N)\n",
    "\n",
    "## Space ##\n",
    "\n",
    "- O(1)"
   ]
  }
 ],
 "metadata": {
  "kernelspec": {
   "display_name": "base",
   "language": "python",
   "name": "python3"
  },
  "language_info": {
   "name": "python",
   "version": "3.10.9"
  },
  "orig_nbformat": 4
 },
 "nbformat": 4,
 "nbformat_minor": 2
}
