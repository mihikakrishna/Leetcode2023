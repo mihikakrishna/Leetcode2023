{
 "cells": [
  {
   "attachments": {},
   "cell_type": "markdown",
   "metadata": {},
   "source": [
    "### Problem Statement ###\n",
    "\n",
    "Given an m x n 2D binary grid grid which represents a map of '1's (land) and '0's (water), return the number of islands.\n",
    "\n",
    "An island is surrounded by water and is formed by connecting adjacent lands horizontally or vertically. You may assume all four edges of the grid are all surrounded by water."
   ]
  },
  {
   "cell_type": "code",
   "execution_count": null,
   "metadata": {},
   "outputs": [],
   "source": [
    "class Solution:\n",
    "    def recurse(self, grid, r, c):\n",
    "        # check if r, c is out of bounds or is not 'land'\n",
    "        if (r >= len(grid) or  r < 0 or \n",
    "            c >= len(grid[0]) or c < 0 or \n",
    "            grid[r][c] != \"1\"):\n",
    "            return \n",
    "        \n",
    "        moves = [(0, 1), (1, 0), (0, -1), (-1, 0)]\n",
    "\n",
    "        # mark as visited\n",
    "        grid[r][c] = \"2\"\n",
    "\n",
    "        # recurse in all directions\n",
    "        for move in moves:\n",
    "            self.recurse(grid, r + move[0], c + move[1])\n",
    "\n",
    "\n",
    "    def numIslands(self, grid: List[List[str]]) -> int:\n",
    "        numIslands = 0\n",
    "        for r in range(len(grid)):\n",
    "            for c in range(len(grid[0])):\n",
    "                # if is 'land' and is unvisited\n",
    "                if grid[r][c] == \"1\":\n",
    "                    self.recurse(grid, r, c)\n",
    "                    numIslands += 1\n",
    "\n",
    "        return numIslands"
   ]
  },
  {
   "attachments": {},
   "cell_type": "markdown",
   "metadata": {},
   "source": [
    "### Complexity Analysis ###\n",
    "\n",
    "## Time ##\n",
    "\n",
    "- O(MN)\n",
    "    - we look at each element of the 2d array exactly once\n",
    "\n",
    "## Space ##\n",
    "\n",
    "- O(MN)\n",
    "    - in the worst case, the depth of the recursive call stack will be mn (i.e. if the array consists entirely of 1s)\n",
    "    - auxiliary space is O(1)"
   ]
  }
 ],
 "metadata": {
  "kernelspec": {
   "display_name": "base",
   "language": "python",
   "name": "python3"
  },
  "language_info": {
   "name": "python",
   "version": "3.10.9"
  },
  "orig_nbformat": 4
 },
 "nbformat": 4,
 "nbformat_minor": 2
}
