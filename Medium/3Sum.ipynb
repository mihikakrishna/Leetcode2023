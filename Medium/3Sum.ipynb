{
 "cells": [
  {
   "attachments": {},
   "cell_type": "markdown",
   "metadata": {},
   "source": [
    "### Problem Statement ###\n",
    "Given an integer array nums, return all the triplets [nums[i], nums[j], nums[k]] such that i != j, i != k, and j != k, and nums[i] + nums[j] + nums[k] == 0.\n",
    "\n",
    "Notice that the solution set must not contain duplicate triplets."
   ]
  },
  {
   "cell_type": "code",
   "execution_count": null,
   "metadata": {},
   "outputs": [],
   "source": [
    "class Solution:\n",
    "    def threeSum(self, nums: List[int]) -> List[List[int]]:\n",
    "        nums.sort()\n",
    "        triples = set()\n",
    "\n",
    "        for i in range(len(nums) - 1):\n",
    "            l = i + 1\n",
    "            r = len(nums) - 1\n",
    "\n",
    "            # if we see a duplicate value, skip it\n",
    "            if i and nums[i] == nums[i - 1]:\n",
    "                continue\n",
    "\n",
    "            while l < r:\n",
    "                currSum = nums[i] + nums[l] + nums[r]\n",
    "                if currSum > 0:\n",
    "                    r -= 1\n",
    "                elif currSum < 0:\n",
    "                    l += 1\n",
    "                else:\n",
    "                    triples.add((nums[i], nums[l], nums[r]))\n",
    "                    l += 1\n",
    "        return triples"
   ]
  },
  {
   "attachments": {},
   "cell_type": "markdown",
   "metadata": {},
   "source": [
    "### Complexity Analysis ###\n",
    "\n",
    "## Time ##\n",
    "\n",
    "- O(N^2)\n",
    "\n",
    "## Space ##\n",
    "\n",
    "- O(1), if result space is not included"
   ]
  }
 ],
 "metadata": {
  "kernelspec": {
   "display_name": "base",
   "language": "python",
   "name": "python3"
  },
  "language_info": {
   "name": "python",
   "version": "3.10.9"
  },
  "orig_nbformat": 4
 },
 "nbformat": 4,
 "nbformat_minor": 2
}
