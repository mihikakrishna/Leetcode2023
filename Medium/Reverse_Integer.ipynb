{
 "cells": [
  {
   "attachments": {},
   "cell_type": "markdown",
   "metadata": {},
   "source": [
    "### Problem Statement ###\n",
    "Given a signed 32-bit integer x, return x with its digits reversed. If reversing x causes the value to go outside the signed 32-bit integer range [-231, 231 - 1], then return 0.\n",
    "\n",
    "Assume the environment does not allow you to store 64-bit integers (signed or unsigned)."
   ]
  },
  {
   "cell_type": "code",
   "execution_count": null,
   "metadata": {},
   "outputs": [],
   "source": [
    "class Solution:\n",
    "    def reverse(self, x: int) -> int:\n",
    "        MAXINT = 2 ** 31 - 1\n",
    "        \n",
    "        negative = x < 0\n",
    "        x = abs(x)\n",
    "        res = 0\n",
    "\n",
    "        while x:\n",
    "            if res > MAXINT // 10: \n",
    "                return 0\n",
    "\n",
    "            if negative and res >= MAXINT // 10 + 1: \n",
    "                return 0\n",
    "\n",
    "            res *= 10       # shift to left by power of 10\n",
    "            res += x % 10\n",
    "            x //= 10\n",
    "            \n",
    "        return -res if negative else res"
   ]
  },
  {
   "attachments": {},
   "cell_type": "markdown",
   "metadata": {},
   "source": [
    "### Complexity Analysis ###\n",
    "\n",
    "## Time ##\n",
    "\n",
    "- O(log_10(N)), where N is input\n",
    "    - We keep dividing by 10 until there is 1 digit left in order to get each digit in the number\n",
    "\n",
    "## Space ##\n",
    "- O(1)"
   ]
  }
 ],
 "metadata": {
  "kernelspec": {
   "display_name": "base",
   "language": "python",
   "name": "python3"
  },
  "language_info": {
   "name": "python",
   "version": "3.10.9"
  },
  "orig_nbformat": 4
 },
 "nbformat": 4,
 "nbformat_minor": 2
}
