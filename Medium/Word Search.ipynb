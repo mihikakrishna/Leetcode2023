{
 "cells": [
  {
   "attachments": {},
   "cell_type": "markdown",
   "metadata": {},
   "source": [
    "### Problem Statement ###\n",
    "\n",
    "Given an m x n grid of characters board and a string word, return true if word exists in the grid.\n",
    "\n",
    "The word can be constructed from letters of sequentially adjacent cells, where adjacent cells are horizontally or vertically neighboring. The same letter cell may not be used more than once."
   ]
  },
  {
   "cell_type": "code",
   "execution_count": null,
   "metadata": {},
   "outputs": [],
   "source": [
    "class Solution:\n",
    "    def exist(self, board: List[List[str]], word: str) -> bool:\n",
    "        \n",
    "        if not board: \n",
    "            return False\n",
    "        \n",
    "        rows, cols = len(board), len(board[0])\n",
    "    \n",
    "        def dfs_search(idx: int, c: int, r: int) -> bool:\n",
    "            \n",
    "            if (c < 0 or c == cols or \n",
    "                r < 0 or r == rows or \n",
    "                word[idx] != board[r][c]):\n",
    "                return False\n",
    "\n",
    "            if idx == len(word) - 1: \n",
    "                return True\n",
    "\n",
    "            cur = board[r][c]\n",
    "            \n",
    "            board[r][c] = '#'\n",
    "            \n",
    "            found = (dfs_search(idx + 1, c + 1, r) or \n",
    "                    dfs_search(idx + 1, c - 1, r) or \n",
    "                    dfs_search(idx + 1, c, r + 1) or \n",
    "                    dfs_search(idx + 1, c, r - 1))\n",
    "            \n",
    "            # once dfs is done, recover the removed char!\n",
    "            board[r][c] = cur     \n",
    "            return found\n",
    "\n",
    "        return any(dfs_search(0, c, r) for r in range(rows) for c in range(cols))      "
   ]
  },
  {
   "attachments": {},
   "cell_type": "markdown",
   "metadata": {},
   "source": [
    "### Complexity Analysis ###\n",
    "\n",
    "## Time ##\n",
    "\n",
    "- O(n * m)\n",
    "\n",
    "## Space ##\n",
    "\n",
    "- O(max(n, m, len(word)))"
   ]
  }
 ],
 "metadata": {
  "kernelspec": {
   "display_name": "Python 3 (ipykernel)",
   "language": "python",
   "name": "python3"
  },
  "language_info": {
   "codemirror_mode": {
    "name": "ipython",
    "version": 3
   },
   "file_extension": ".py",
   "mimetype": "text/x-python",
   "name": "python",
   "nbconvert_exporter": "python",
   "pygments_lexer": "ipython3",
   "version": "3.10.8"
  },
  "orig_nbformat": 4
 },
 "nbformat": 4,
 "nbformat_minor": 2
}
