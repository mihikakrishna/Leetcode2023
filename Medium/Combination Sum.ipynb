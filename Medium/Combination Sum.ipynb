{
 "cells": [
  {
   "attachments": {},
   "cell_type": "markdown",
   "metadata": {},
   "source": [
    "### Problem Statement ###\n",
    "\n",
    "Given an array of distinct integers candidates and a target integer target, return a list of all unique combinations of candidates where the chosen numbers sum to target. You may return the combinations in any order.\n",
    "\n",
    "The same number may be chosen from candidates an unlimited number of times. Two combinations are unique if the frequency of at least one of the chosen numbers is different.\n",
    "\n",
    "The test cases are generated such that the number of unique combinations that sum up to target is less than 150 combinations for the given input."
   ]
  },
  {
   "cell_type": "code",
   "execution_count": null,
   "metadata": {},
   "outputs": [],
   "source": [
    "class Solution:\n",
    "    def combinationSum(self, candidates: List[int], target: int) -> List[List[int]]:\n",
    "        res = []\n",
    "\n",
    "        def dfs(i, curr, total):\n",
    "            if total == target:\n",
    "                res.append(curr.copy())\n",
    "                return\n",
    "                \n",
    "            if i >= len(candidates) or total > target:\n",
    "                return \n",
    "            \n",
    "            # include number at current idx\n",
    "            curr.append(candidates[i])\n",
    "            dfs(i, curr, total + candidates[i])\n",
    "\n",
    "            # do not include number at current idx,\n",
    "            # instead include number at next idx\n",
    "            curr.pop()\n",
    "            dfs(i + 1, curr, total)\n",
    "        \n",
    "        dfs(0, [], 0)\n",
    "        return res "
   ]
  },
  {
   "attachments": {},
   "cell_type": "markdown",
   "metadata": {},
   "source": [
    "### Complexity Analysis ###\n",
    "\n",
    "## Time ##\n",
    "\n",
    "- O(2^N)\n",
    "    - 2 branches\n",
    "    - max height of tree = N\n",
    "\n",
    "## Space ##\n",
    "\n",
    "- O(N 2^N)\n",
    "    - Max # of recursive stack frames at once is N\n",
    "    - Each node stores res, which holds 2^N combinations"
   ]
  }
 ],
 "metadata": {
  "kernelspec": {
   "display_name": "base",
   "language": "python",
   "name": "python3"
  },
  "language_info": {
   "name": "python",
   "version": "3.10.9"
  },
  "orig_nbformat": 4
 },
 "nbformat": 4,
 "nbformat_minor": 2
}
