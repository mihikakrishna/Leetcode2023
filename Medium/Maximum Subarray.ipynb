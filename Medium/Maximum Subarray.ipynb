{
 "cells": [
  {
   "attachments": {},
   "cell_type": "markdown",
   "metadata": {},
   "source": [
    "### Problem Statement ###\n",
    "Given an integer array nums, find the subarray with the largest sum, and return its sum.\n"
   ]
  },
  {
   "cell_type": "code",
   "execution_count": null,
   "metadata": {},
   "outputs": [],
   "source": [
    "class Solution:\n",
    "    def maxSubArray(self, nums: List[int]) -> int:\n",
    "\n",
    "        currSum = 0\n",
    "        maxSum = nums[0]\n",
    "\n",
    "        for num in nums:\n",
    "            # if current sum is ever negative, discard it\n",
    "            if currSum < 0:\n",
    "                currSum = 0\n",
    "\n",
    "            currSum += num\n",
    "\n",
    "            # keep track of max in every iteration\n",
    "            maxSum = max(maxSum, currSum)\n",
    "        return maxSum"
   ]
  },
  {
   "attachments": {},
   "cell_type": "markdown",
   "metadata": {},
   "source": [
    "### Complexity Analysis ###\n",
    "\n",
    "## Time ##\n",
    "\n",
    "- O(N)\n",
    "\n",
    "## Space ##\n",
    "\n",
    "- O(1)"
   ]
  }
 ],
 "metadata": {
  "kernelspec": {
   "display_name": "base",
   "language": "python",
   "name": "python3"
  },
  "language_info": {
   "name": "python",
   "version": "3.10.9"
  },
  "orig_nbformat": 4
 },
 "nbformat": 4,
 "nbformat_minor": 2
}
