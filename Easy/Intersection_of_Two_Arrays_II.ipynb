{
 "cells": [
  {
   "attachments": {},
   "cell_type": "markdown",
   "metadata": {},
   "source": [
    "### Problem Statement ###\n",
    "\n",
    "Given two integer arrays nums1 and nums2, return an array of their intersection. Each element in the result must appear as many times as it shows in both arrays and you may return the result in any order.\n"
   ]
  },
  {
   "cell_type": "code",
   "execution_count": null,
   "metadata": {},
   "outputs": [],
   "source": [
    "class Solution:\n",
    "    def create_dict(self, nums):\n",
    "        num_dict = {}\n",
    "        for num in nums:\n",
    "            if num not in num_dict:\n",
    "                num_dict[num] = 0\n",
    "            num_dict[num] += 1\n",
    "        return num_dict\n",
    "        \n",
    "\n",
    "    def find_intersection(self, nums, num_dict):\n",
    "        res = []\n",
    "        for num in nums:\n",
    "            if num not in num_dict or num_dict[num] == 0:\n",
    "                continue\n",
    "            num_dict[num] -= 1\n",
    "            res.append(num)\n",
    "        return res\n",
    "\n",
    "    def intersect(self, nums1: List[int], nums2: List[int]) -> List[int]:\n",
    "        num_dict = (self.create_dict(nums1) if len(nums1) < len(nums2) else \n",
    "                    self.create_dict(nums2))\n",
    "\n",
    "        res =  (self.find_intersection(nums2, num_dict) if len(nums1) < len(nums2) else \n",
    "                self.find_intersection(nums1, num_dict))\n",
    "        return res"
   ]
  },
  {
   "attachments": {},
   "cell_type": "markdown",
   "metadata": {},
   "source": [
    "### Complexity Analysis ###\n",
    "\n",
    "## Time ##\n",
    "\n",
    "- O(N), N = max(len(nums1), len(nums2))\n",
    "    - Since we are iterating thorugh each element in both arrays to construct a dictionary and find the intersection\n",
    "    - Look up in dict is O(1)\n",
    "    - Appending to an array is O(1)\n",
    "\n",
    "## Space ##\n",
    "\n",
    "- O(N), N = max(len(nums1), len(nums2))\n",
    "    - In the worst case, we will need to store all elements in the dict, in case both the arrays have all the same elements"
   ]
  },
  {
   "attachments": {},
   "cell_type": "markdown",
   "metadata": {},
   "source": [
    "## Follow Up ##\n",
    "\n",
    "Assume the two arrays are already sorted"
   ]
  },
  {
   "cell_type": "code",
   "execution_count": null,
   "metadata": {},
   "outputs": [],
   "source": [
    "class Solution:\n",
    "    def find_intersection(self, arr1, arr2):\n",
    "        res = []\n",
    "        p1, p2 = 0, 0\n",
    "        while p1 < len(arr1) and p2 < len(arr2):\n",
    "                if arr1[p1] > arr2[p2]:\n",
    "                    p2 += 1\n",
    "                elif arr1[p1] < arr2[p2]:\n",
    "                    p1 += 1\n",
    "                else:\n",
    "                    res.append(arr1[p1])\n",
    "                    p1 += 1\n",
    "                    p2 += 1\n",
    "        return res\n",
    "\n",
    "    def intersect(self, nums1: List[int], nums2: List[int]) -> List[int]:\n",
    "        if len(nums1) < len(nums2):\n",
    "            return self.find_intersection(nums1, nums2)\n",
    "        else:\n",
    "            return self.find_intersection(nums2, nums1)\n"
   ]
  },
  {
   "attachments": {},
   "cell_type": "markdown",
   "metadata": {},
   "source": [
    "### Complexity Analysis ###\n",
    "\n",
    "## Time ##\n",
    "\n",
    "- O(N), N = max(len(nums1), len(nums2))\n",
    "    - Since we are iterating thorugh each element in both arrays to find the intersection\n",
    "\n",
    "## Space ##\n",
    "\n",
    "- O(1) if return array not countes\n",
    "- O(N) if return array is counted"
   ]
  }
 ],
 "metadata": {
  "kernelspec": {
   "display_name": "base",
   "language": "python",
   "name": "python3"
  },
  "language_info": {
   "name": "python",
   "version": "3.10.9"
  },
  "orig_nbformat": 4
 },
 "nbformat": 4,
 "nbformat_minor": 2
}
