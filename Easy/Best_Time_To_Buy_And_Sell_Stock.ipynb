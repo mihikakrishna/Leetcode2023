{
 "cells": [
  {
   "attachments": {},
   "cell_type": "markdown",
   "metadata": {},
   "source": [
    "### Problem Statement ###\n",
    "\n",
    "You are given an array prices where prices[i] is the price of a given stock on the ith day.\n",
    "\n",
    "You want to maximize your profit by choosing a single day to buy one stock and choosing a different day in the future to sell that stock.\n",
    "\n",
    "Return the maximum profit you can achieve from this transaction. If you cannot achieve any profit, return 0."
   ]
  },
  {
   "cell_type": "code",
   "execution_count": null,
   "metadata": {},
   "outputs": [],
   "source": [
    "class Solution:\n",
    "    def maxProfit(self, prices: List[int]) -> int:\n",
    "        l = 0\n",
    "        r = 1\n",
    "        max_profit = 0\n",
    "        \n",
    "        while r < len(prices):\n",
    "            curr_profit = prices[r] - prices[l]\n",
    "\n",
    "            if curr_profit < 0:\n",
    "                l = r\n",
    "            \n",
    "            max_profit = max(max_profit, curr_profit)\n",
    "            r += 1\n",
    "\n",
    "        return 0 if max_profit < 0 else max_profit\n",
    "            "
   ]
  },
  {
   "attachments": {},
   "cell_type": "markdown",
   "metadata": {},
   "source": [
    "### Complexity Analysis ###\n",
    "\n",
    "## Time ##\n",
    "\n",
    "- O(N), N = len(prices)\n",
    "    - We are iterating through every array in prices\n",
    "\n",
    "## Space ##\n",
    "\n",
    "- O(1)\n",
    "    - We don't use any extra space apart from local variables"
   ]
  }
 ],
 "metadata": {
  "kernelspec": {
   "display_name": "base",
   "language": "python",
   "name": "python3"
  },
  "language_info": {
   "name": "python",
   "version": "3.10.9"
  },
  "orig_nbformat": 4
 },
 "nbformat": 4,
 "nbformat_minor": 2
}
