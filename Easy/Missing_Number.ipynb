{
 "cells": [
  {
   "attachments": {},
   "cell_type": "markdown",
   "metadata": {},
   "source": [
    "### Problem Statement ###\n",
    "Given an array nums containing n distinct numbers in the range [0, n], return the only number in the range that is missing from the array."
   ]
  },
  {
   "attachments": {},
   "cell_type": "markdown",
   "metadata": {},
   "source": [
    "#### Naive Approach ####\n",
    "\n",
    "Marking numbers as negative"
   ]
  },
  {
   "cell_type": "code",
   "execution_count": null,
   "metadata": {},
   "outputs": [],
   "source": [
    "class Solution:\n",
    "    def missingNumber(self, nums: List[int]) -> int:\n",
    "        negative_zero = False\n",
    "        end_found = False\n",
    "\n",
    "        for i in range(len(nums)):\n",
    "            if abs(nums[i]) == len(nums):\n",
    "                end_found = True\n",
    "                continue\n",
    "            nums[abs(nums[i])] *= -1\n",
    "            if nums[abs(nums[i])] == 0:\n",
    "                negative_zero = True\n",
    "\n",
    "        for i in range(len(nums)):\n",
    "            if nums[i] == 0 and not negative_zero:\n",
    "                return i\n",
    "            if nums[i] > 0:\n",
    "                return i\n",
    "            if not end_found:\n",
    "                return len(nums)"
   ]
  },
  {
   "attachments": {},
   "cell_type": "markdown",
   "metadata": {},
   "source": [
    "### Complexity Analysis ###\n",
    "\n",
    "## Time ##\n",
    "\n",
    "- O(N), N = len(nums)\n",
    "    - We are iterating though the entire arrat once to mark seen values and once to find the missing number\n",
    "\n",
    "## Space ##\n",
    "\n",
    "- O(1)\n",
    "    -We don't use any auxialiry space apart from local variables\n"
   ]
  },
  {
   "attachments": {},
   "cell_type": "markdown",
   "metadata": {},
   "source": [
    "#### Another approach - Using sums ####\n",
    "\n",
    "Exploit arithmetic sequence"
   ]
  },
  {
   "cell_type": "code",
   "execution_count": null,
   "metadata": {},
   "outputs": [],
   "source": [
    "class Solution:\n",
    "    def missingNumber(self, nums: List[int]) -> int:\n",
    "        n = len(nums)\n",
    "        sum_of_range = n * (n + 1) // 2 # Arithmetic Sequence\n",
    "\n",
    "        return sum_of_range - sum(nums)"
   ]
  },
  {
   "attachments": {},
   "cell_type": "markdown",
   "metadata": {},
   "source": [
    "### Complexity Analysis ###\n",
    "\n",
    "## Time ##\n",
    "\n",
    "- O(N), N = len(nums)\n",
    "    - The time complexity of sum() is O(N)\n",
    "\n",
    "## Space ##\n",
    "\n",
    "- O(1)\n",
    "    -We don't use any auxialiry space apart from local variables\n"
   ]
  }
 ],
 "metadata": {
  "kernelspec": {
   "display_name": "base",
   "language": "python",
   "name": "python3"
  },
  "language_info": {
   "name": "python",
   "version": "3.10.9"
  },
  "orig_nbformat": 4
 },
 "nbformat": 4,
 "nbformat_minor": 2
}
