{
 "cells": [
  {
   "attachments": {},
   "cell_type": "markdown",
   "metadata": {},
   "source": [
    "### Problem Statement ###\n",
    "\n",
    "Write a function that reverses a string. The input string is given as an array of characters s.\n",
    "\n",
    "You must do this by modifying the input array in-place with O(1) extra memory."
   ]
  },
  {
   "cell_type": "code",
   "execution_count": null,
   "metadata": {},
   "outputs": [],
   "source": [
    "class Solution:\n",
    "    def reverseString(self, s: List[str]) -> None:\n",
    "        p1 = 0\n",
    "        p2 = len(s) - 1\n",
    "\n",
    "        while p1 < p2:\n",
    "            temp = s[p1]\n",
    "            s[p1] = s[p2]\n",
    "            s[p2] = temp\n",
    "\n",
    "            p1 += 1\n",
    "            p2 -= 1"
   ]
  },
  {
   "attachments": {},
   "cell_type": "markdown",
   "metadata": {},
   "source": [
    "### Complexity Analysis ###\n",
    "\n",
    "## Time ##\n",
    "\n",
    "- O(N),  N is number of elements in input list\n",
    "    - Since iterating through every single element in the list\n",
    "\n",
    "## Space ##\n",
    "\n",
    "- O(1)\n",
    "    - We don't use any additional space apart from local variables"
   ]
  }
 ],
 "metadata": {
  "kernelspec": {
   "display_name": "base",
   "language": "python",
   "name": "python3"
  },
  "language_info": {
   "name": "python",
   "version": "3.10.9"
  },
  "orig_nbformat": 4
 },
 "nbformat": 4,
 "nbformat_minor": 2
}
