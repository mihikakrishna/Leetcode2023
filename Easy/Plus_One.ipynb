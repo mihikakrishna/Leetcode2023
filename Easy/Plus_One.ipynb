{
 "cells": [
  {
   "attachments": {},
   "cell_type": "markdown",
   "metadata": {},
   "source": [
    "### Problem Statement ###\n",
    "\n",
    "You are given a large integer represented as an integer array digits, where each digits[i] is the ith digit of the integer. The digits are ordered from most significant to least significant in left-to-right order. The large integer does not contain any leading 0's.\n",
    "\n",
    "Increment the large integer by one and return the resulting array of digits."
   ]
  },
  {
   "cell_type": "code",
   "execution_count": null,
   "metadata": {},
   "outputs": [],
   "source": [
    "class Solution:\n",
    "    def plusOne(self, digits: List[int]) -> List[int]:\n",
    "        digit_sum = 0\n",
    "        carry = 1\n",
    "\n",
    "        digits.reverse()\n",
    "\n",
    "        for i in range(0, len(digits)):\n",
    "            digit_sum = (digits[i] + carry) % 10\n",
    "            carry = (digits[i] + carry) // 10\n",
    "            digits[i] = digit_sum\n",
    "\n",
    "        if carry:\n",
    "            digits.append(carry)\n",
    "\n",
    "        digits.reverse()\n",
    "\n",
    "        return digits"
   ]
  },
  {
   "attachments": {},
   "cell_type": "markdown",
   "metadata": {},
   "source": [
    "### Complexity Analysis ###\n",
    "\n",
    "## Time ##\n",
    "\n",
    "- O(N), N is the length of the input array\n",
    "    - Iterating through the input array is O(N)\n",
    "    - returning the reversed result array at the end is O(N)\n",
    "\n",
    "## Space ##\n",
    "- O(1)\n",
    "    - The reversed() function modifies the input array, so we are not using any additional space"
   ]
  }
 ],
 "metadata": {
  "kernelspec": {
   "display_name": "base",
   "language": "python",
   "name": "python3"
  },
  "language_info": {
   "name": "python",
   "version": "3.10.9"
  },
  "orig_nbformat": 4
 },
 "nbformat": 4,
 "nbformat_minor": 2
}
