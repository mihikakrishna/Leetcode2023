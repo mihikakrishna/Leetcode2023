{
 "cells": [
  {
   "attachments": {},
   "cell_type": "markdown",
   "metadata": {},
   "source": [
    "### Problem Statement ###\n",
    "\n",
    "Given two strings needle and haystack, return the index of the first occurrence of needle in haystack, or -1 if needle is not part of haystack.\n"
   ]
  },
  {
   "cell_type": "code",
   "execution_count": null,
   "metadata": {},
   "outputs": [],
   "source": [
    "class Solution:\n",
    "    def strStr(self, haystack: str, needle: str) -> int:\n",
    "        if not needle:\n",
    "            return 0\n",
    "        i = 0\n",
    "        while (i <= len(haystack) - len(needle)):                \n",
    "            if haystack[i : i + len(needle)] == needle:\n",
    "                return i\n",
    "            i += 1\n",
    "        return -1\n",
    "        "
   ]
  },
  {
   "attachments": {},
   "cell_type": "markdown",
   "metadata": {},
   "source": [
    "### Complexity Analysis ###\n",
    "\n",
    "## Time ##\n",
    "\n",
    "- O(NM), N = len(haystack), M = len(needle)\n",
    "    - We are going through evert character in haystack and checking if it matches every character in needle\n",
    "\n",
    "## Space ##\n",
    "\n",
    "- O(1)\n",
    "    - We are only using local variables to store data"
   ]
  }
 ],
 "metadata": {
  "kernelspec": {
   "display_name": "base",
   "language": "python",
   "name": "python3"
  },
  "language_info": {
   "name": "python",
   "version": "3.10.9"
  },
  "orig_nbformat": 4
 },
 "nbformat": 4,
 "nbformat_minor": 2
}
