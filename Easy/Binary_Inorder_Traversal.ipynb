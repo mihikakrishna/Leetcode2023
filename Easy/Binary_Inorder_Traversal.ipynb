{
 "cells": [
  {
   "attachments": {},
   "cell_type": "markdown",
   "metadata": {},
   "source": [
    "### Problem Statement ###\n",
    "\n",
    "Given the root of a binary tree, return the inorder traversal of its nodes' values.\n"
   ]
  },
  {
   "cell_type": "code",
   "execution_count": null,
   "metadata": {},
   "outputs": [],
   "source": [
    "# Definition for a binary tree node.\n",
    "# class TreeNode:\n",
    "#     def __init__(self, val=0, left=None, right=None):\n",
    "#         self.val = val\n",
    "#         self.left = left\n",
    "#         self.right = right\n",
    "class Solution:\n",
    "    def traverse(self, node, traversal):\n",
    "        if node == None:\n",
    "            return\n",
    "        \n",
    "        self.traverse(node.left, traversal)\n",
    "        traversal.append(node.val)\n",
    "        self.traverse(node.right, traversal)\n",
    "\n",
    "        return\n",
    "    def inorderTraversal(self, root: Optional[TreeNode]) -> List[int]:\n",
    "        traversal = []\n",
    "\n",
    "        self.traverse(root, traversal)\n",
    "\n",
    "        return traversal"
   ]
  },
  {
   "attachments": {},
   "cell_type": "markdown",
   "metadata": {},
   "source": [
    "### Complexity Analysis ###\n",
    "\n",
    "## Time ##\n",
    "\n",
    "- O(N), N = # of nodes in the tree\n",
    "    - Since we are looking at every node in the tree\n",
    "\n",
    "## Space ##\n",
    "\n",
    "- Worst case - O(N) - If the tree is unbalanced, there will be N stack frames for the recursive calls on each of the N nodes\n",
    "- Average case - O(logN) - If the tree is balanced"
   ]
  }
 ],
 "metadata": {
  "kernelspec": {
   "display_name": "base",
   "language": "python",
   "name": "python3"
  },
  "language_info": {
   "name": "python",
   "version": "3.10.9"
  },
  "orig_nbformat": 4
 },
 "nbformat": 4,
 "nbformat_minor": 2
}
