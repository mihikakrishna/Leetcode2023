{
 "cells": [
  {
   "attachments": {},
   "cell_type": "markdown",
   "metadata": {},
   "source": [
    "### Problem Statement ###\n",
    "\n",
    "Given a string s, find the first non-repeating character in it and return its index. If it does not exist, return -1."
   ]
  },
  {
   "cell_type": "code",
   "execution_count": null,
   "metadata": {},
   "outputs": [],
   "source": [
    "class Solution:\n",
    "    def firstUniqChar(self, s: str) -> int:\n",
    "        char_dict = {}\n",
    "        \n",
    "        for char in s:\n",
    "            if char not in char_dict:\n",
    "                char_dict[char] = 0\n",
    "            char_dict[char] += 1\n",
    "\n",
    "        for i in range(len(s)):\n",
    "            if char_dict[s[i]] == 1:\n",
    "                return i\n",
    "        \n",
    "        return -1"
   ]
  },
  {
   "attachments": {},
   "cell_type": "markdown",
   "metadata": {},
   "source": [
    "### Complexity Analysis ###\n",
    "\n",
    "## Time ##\n",
    "\n",
    "- O(N), N = len(s)\n",
    "    - We iterate through the entire string to build the dictionary and find the first non-repeating value\n",
    "\n",
    "## Space ##\n",
    "\n",
    "- O(N), But technically O(26) ~ O(1), since s consists of only lowercase English letters.\n",
    "    - In the worst case, we will need to store every letter of the alphabet in our array. However, this will never be more than 26, so it can be considered as constant time"
   ]
  }
 ],
 "metadata": {
  "kernelspec": {
   "display_name": "base",
   "language": "python",
   "name": "python3"
  },
  "language_info": {
   "name": "python",
   "version": "3.10.9"
  },
  "orig_nbformat": 4
 },
 "nbformat": 4,
 "nbformat_minor": 2
}
