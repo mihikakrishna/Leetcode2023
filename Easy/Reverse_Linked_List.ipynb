{
 "cells": [
  {
   "attachments": {},
   "cell_type": "markdown",
   "metadata": {},
   "source": [
    "### Problem Statement ###\n",
    "\n",
    "Given the head of a singly linked list, reverse the list, and return the reversed list."
   ]
  },
  {
   "cell_type": "code",
   "execution_count": null,
   "metadata": {},
   "outputs": [],
   "source": [
    "# Definition for singly-linked list.\n",
    "# class ListNode:\n",
    "#     def __init__(self, val=0, next=None):\n",
    "#         self.val = val\n",
    "#         self.next = next\n",
    "class Solution:\n",
    "    def reverseList(self, head: Optional[ListNode]) -> Optional[ListNode]:\n",
    "\n",
    "        currNode = head\n",
    "        prevNode = None\n",
    "\n",
    "        while currNode != None:\n",
    "            tempNode = currNode.next\n",
    "            currNode.next = prevNode\n",
    "            prevNode = currNode\n",
    "            currNode = tempNode\n",
    "\n",
    "        return prevNode"
   ]
  },
  {
   "attachments": {},
   "cell_type": "markdown",
   "metadata": {},
   "source": [
    "### Complexity Analysis ###\n",
    "\n",
    "## Time ##\n",
    "\n",
    "- O(N), N = # of nodes in linked list\n",
    "    - Since we are iterating though each item in the list\n",
    "\n",
    "## Space ##\n",
    "\n",
    "- O(1)\n",
    "    - We don't use any auxiliary space apart from local variables"
   ]
  }
 ],
 "metadata": {
  "kernelspec": {
   "display_name": "base",
   "language": "python",
   "name": "python3"
  },
  "language_info": {
   "name": "python",
   "version": "3.10.9"
  },
  "orig_nbformat": 4
 },
 "nbformat": 4,
 "nbformat_minor": 2
}
