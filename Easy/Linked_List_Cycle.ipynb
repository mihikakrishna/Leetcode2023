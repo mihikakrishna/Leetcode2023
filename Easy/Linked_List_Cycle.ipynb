{
 "cells": [
  {
   "attachments": {},
   "cell_type": "markdown",
   "metadata": {},
   "source": [
    "### Problem Statement ###\n",
    "\n",
    "Given head, the head of a linked list, determine if the linked list has a cycle in it.\n",
    "\n",
    "There is a cycle in a linked list if there is some node in the list that can be reached again by continuously following the next pointer. Internally, pos is used to denote the index of the node that tail's next pointer is connected to. Note that pos is not passed as a parameter.\n",
    "\n",
    "Return true if there is a cycle in the linked list. Otherwise, return false."
   ]
  },
  {
   "attachments": {},
   "cell_type": "markdown",
   "metadata": {},
   "source": [
    "#### Approach 1 : Modifying Input ####"
   ]
  },
  {
   "cell_type": "code",
   "execution_count": null,
   "metadata": {},
   "outputs": [],
   "source": [
    "# Definition for singly-linked list.\n",
    "# class ListNode:\n",
    "#     def __init__(self, x):\n",
    "#         self.val = x\n",
    "#         self.next = None\n",
    "\n",
    "class Solution:\n",
    "    def hasCycle(self, head: Optional[ListNode]) -> bool:\n",
    "        node = head\n",
    "\n",
    "        while node != None:\n",
    "            if node.val == 'X':\n",
    "                return True\n",
    "            node.val = 'X'\n",
    "            node = node.next\n",
    "\n",
    "        return False\n",
    "\n",
    "        "
   ]
  },
  {
   "attachments": {},
   "cell_type": "markdown",
   "metadata": {},
   "source": [
    "### Complexity Analysis ###\n",
    "\n",
    "## Time ##\n",
    "\n",
    "- O(N), N is length of LL prior to cycle\n",
    "    - We iterate through the whole LL until the cycle is found\n",
    "\n",
    "## Space ##\n",
    "\n",
    "- O(1)\n",
    "    - No extra datastuctures are used"
   ]
  },
  {
   "attachments": {},
   "cell_type": "markdown",
   "metadata": {},
   "source": [
    "#### Approach 2 ####\n",
    "\n",
    "Floyd's tortoise and hare algorithm - AKA slow and fast pointers"
   ]
  },
  {
   "cell_type": "code",
   "execution_count": null,
   "metadata": {},
   "outputs": [],
   "source": [
    "# Definition for singly-linked list.\n",
    "# class ListNode:\n",
    "#     def __init__(self, x):\n",
    "#         self.val = x\n",
    "#         self.next = None\n",
    "\n",
    "class Solution:\n",
    "    def hasCycle(self, head: Optional[ListNode]) -> bool:\n",
    "        s = head\n",
    "        f = head\n",
    "\n",
    "        while f and f.next:\n",
    "            s = s.next\n",
    "            f = f.next.next\n",
    "            if s == f:\n",
    "                return True\n",
    "\n",
    "        return False"
   ]
  },
  {
   "attachments": {},
   "cell_type": "markdown",
   "metadata": {},
   "source": [
    "### Complexity Analysis ###\n",
    "\n",
    "## Time ##\n",
    "\n",
    "- O(N), N is length of LL prior to cycle\n",
    "    - We iterate through the whole LL until the slow pointer meets the fast pointer\n",
    "\n",
    "## Space ##\n",
    "\n",
    "- O(1)\n",
    "    - No extra datastuctures are used"
   ]
  }
 ],
 "metadata": {
  "kernelspec": {
   "display_name": "base",
   "language": "python",
   "name": "python3"
  },
  "language_info": {
   "name": "python",
   "version": "3.10.9"
  },
  "orig_nbformat": 4
 },
 "nbformat": 4,
 "nbformat_minor": 2
}
