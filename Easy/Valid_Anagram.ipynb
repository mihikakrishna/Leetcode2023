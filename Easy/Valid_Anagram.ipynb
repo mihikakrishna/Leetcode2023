{
 "cells": [
  {
   "attachments": {},
   "cell_type": "markdown",
   "metadata": {},
   "source": [
    "### Problem Statement ###\n",
    "\n",
    "Given two strings s and t, return true if t is an anagram of s, and false otherwise.\n",
    "\n",
    "An Anagram is a word or phrase formed by rearranging the letters of a different word or phrase, typically using all the original letters exactly once."
   ]
  },
  {
   "cell_type": "code",
   "execution_count": null,
   "metadata": {},
   "outputs": [],
   "source": [
    "class Solution:\n",
    "    def isAnagram(self, s: str, t: str) -> bool:\n",
    "        if len(s) != len(t):\n",
    "            return False\n",
    "            \n",
    "        char_counts = {}\n",
    "\n",
    "        for char in s:\n",
    "            if char not in char_counts:\n",
    "                char_counts[char] = 0\n",
    "            char_counts[char] += 1\n",
    "        \n",
    "        for char in t:\n",
    "            if char not in char_counts:\n",
    "                return False\n",
    "            char_counts[char] -= 1\n",
    "            if char_counts[char] == 0:\n",
    "                del char_counts[char]\n",
    "\n",
    "        return not char_counts\n"
   ]
  },
  {
   "attachments": {},
   "cell_type": "markdown",
   "metadata": {},
   "source": [
    "### Complexity Analysis ###\n",
    "\n",
    "## Time ##\n",
    "\n",
    "- O(N + M), N = len(s), M = len(t)\n",
    "    - We are iterating through s to construct the dictionary and t to check if it is an anagram of s\n",
    "\n",
    "## Space ##\n",
    "\n",
    "- O(N)\n",
    "    - Our dictionary will have to hold N items if all the characters in s are unique\n",
    "    - The probelms statement says s and t consist of lowercase English letters, so this is technicially O(26)~O(1)"
   ]
  }
 ],
 "metadata": {
  "kernelspec": {
   "display_name": "base",
   "language": "python",
   "name": "python3"
  },
  "language_info": {
   "name": "python",
   "version": "3.10.9"
  },
  "orig_nbformat": 4
 },
 "nbformat": 4,
 "nbformat_minor": 2
}
