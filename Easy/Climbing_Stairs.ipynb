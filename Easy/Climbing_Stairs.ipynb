{
 "cells": [
  {
   "attachments": {},
   "cell_type": "markdown",
   "metadata": {},
   "source": [
    "### Problem Statement ###\n",
    "\n",
    "You are climbing a staircase. It takes n steps to reach the top.\n",
    "\n",
    "Each time you can either climb 1 or 2 steps. In how many distinct ways can you climb to the top?"
   ]
  },
  {
   "attachments": {},
   "cell_type": "markdown",
   "metadata": {},
   "source": [
    "## Memoization Approach ##"
   ]
  },
  {
   "cell_type": "code",
   "execution_count": 1,
   "metadata": {},
   "outputs": [],
   "source": [
    "class Solution:\n",
    "    def findPaths(self, currStep, memo):\n",
    "        if currStep <= -1:\n",
    "            return 0\n",
    "        \n",
    "        if currStep == 0:\n",
    "            return 1\n",
    "\n",
    "        if currStep - 1 in memo and currStep - 2 in memo:\n",
    "            return memo[currStep - 1] + memo[currStep - 2]\n",
    "\n",
    "        memo[currStep] =  self.findPaths(currStep - 1, memo) + self.findPaths(currStep - 2, memo)\n",
    "        return memo[currStep] \n",
    "\n",
    "    def climbStairs(self, n: int) -> int:\n",
    "        memo = {}\n",
    "        return self.findPaths(n, memo)"
   ]
  },
  {
   "attachments": {},
   "cell_type": "markdown",
   "metadata": {},
   "source": [
    "### Complexity Analysis ###\n",
    "\n",
    "## Time ##\n",
    "\n",
    "- O(N), where N is the input number\n",
    "    - We calculate the # of steps at each step exactly once i.e. each sub-problem is solved once\n",
    "\n",
    "## Space ##\n",
    "\n",
    "- O(N), where N is the input number\n",
    "    - The result of each subproblem is stored in a cache exactly once"
   ]
  },
  {
   "attachments": {},
   "cell_type": "markdown",
   "metadata": {},
   "source": [
    "## DP Approach ##"
   ]
  },
  {
   "cell_type": "code",
   "execution_count": 2,
   "metadata": {},
   "outputs": [],
   "source": [
    "class Solution:\n",
    "    def climbStairs(self, n: int) -> int:\n",
    "        if n <= 2:\n",
    "            return n\n",
    "    \n",
    "        prev = 1\n",
    "        curr = 2\n",
    "        \n",
    "        for i in range(3, n + 1):\n",
    "            distinct_ways = prev + curr\n",
    "            prev = curr\n",
    "            curr = distinct_ways\n",
    "        \n",
    "        return curr"
   ]
  },
  {
   "attachments": {},
   "cell_type": "markdown",
   "metadata": {},
   "source": [
    "### Complexity Analysis ###\n",
    "\n",
    "## Time ##\n",
    "\n",
    "- O(N), where N is the input number\n",
    "    - We calculate the # of ways to reach the end for each value uptil the input number\n",
    "\n",
    "## Space ##\n",
    "\n",
    "- O(1)\n",
    "    - We remove need for memoization since **the number of distinct ways to reach the current step is the sum of the distinct ways to reach the previous step**\n",
    "    - We are only using local variables"
   ]
  }
 ],
 "metadata": {
  "kernelspec": {
   "display_name": "base",
   "language": "python",
   "name": "python3"
  },
  "language_info": {
   "codemirror_mode": {
    "name": "ipython",
    "version": 3
   },
   "file_extension": ".py",
   "mimetype": "text/x-python",
   "name": "python",
   "nbconvert_exporter": "python",
   "pygments_lexer": "ipython3",
   "version": "3.10.9"
  },
  "orig_nbformat": 4
 },
 "nbformat": 4,
 "nbformat_minor": 2
}
