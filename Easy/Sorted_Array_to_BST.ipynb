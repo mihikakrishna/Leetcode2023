{
 "cells": [
  {
   "attachments": {},
   "cell_type": "markdown",
   "metadata": {},
   "source": [
    "### Problem Statement ###\n",
    "\n",
    "Given an integer array nums where the elements are sorted in ascending order, convert it to a height-balanced binary search tree."
   ]
  },
  {
   "cell_type": "code",
   "execution_count": null,
   "metadata": {},
   "outputs": [],
   "source": [
    "# Definition for a binary tree node.\n",
    "# class TreeNode:\n",
    "#     def __init__(self, val=0, left=None, right=None):\n",
    "#         self.val = val\n",
    "#         self.left = left\n",
    "#         self.right = right\n",
    "class Solution:\n",
    "    def createBST(self, nums, l, r):\n",
    "        if l > r:\n",
    "            return None\n",
    "\n",
    "        m = (l + r) // 2\n",
    "\n",
    "        currNode = TreeNode(nums[m])\n",
    "\n",
    "        currNode.left = self.createBST(nums, l, m - 1)\n",
    "        currNode.right = self.createBST(nums, m + 1, r)\n",
    "\n",
    "        return currNode\n",
    "\n",
    "    def sortedArrayToBST(self, nums: List[int]) -> Optional[TreeNode]:\n",
    "        return self.createBST(nums, 0, len(nums) - 1)"
   ]
  },
  {
   "attachments": {},
   "cell_type": "markdown",
   "metadata": {},
   "source": [
    "### Complexity Analysis ###\n",
    "\n",
    "## Time ##\n",
    "\n",
    "- O(N), N = len(nums)\n",
    "    - We create a node for every element in the input array by traversing through the entire array\n",
    "\n",
    "## Space ##\n",
    "\n",
    "- O(logN)\n",
    "    Since the tree is height balanced, we will only have log N stack frames at once"
   ]
  }
 ],
 "metadata": {
  "kernelspec": {
   "display_name": "base",
   "language": "python",
   "name": "python3"
  },
  "language_info": {
   "name": "python",
   "version": "3.10.9"
  },
  "orig_nbformat": 4
 },
 "nbformat": 4,
 "nbformat_minor": 2
}
