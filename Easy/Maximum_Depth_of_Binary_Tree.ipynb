{
 "cells": [
  {
   "attachments": {},
   "cell_type": "markdown",
   "metadata": {},
   "source": [
    "### Problem Statement ###\n",
    "\n",
    "Maximum Depth of Binary Tree\n",
    "\n",
    "Given the root of a binary tree, return its maximum depth.\n",
    "\n",
    "A binary tree's maximum depth is the number of nodes along the longest path from the root node down to the farthest leaf node."
   ]
  },
  {
   "cell_type": "code",
   "execution_count": null,
   "metadata": {},
   "outputs": [],
   "source": [
    "# Definition for a binary tree node.\n",
    "# class TreeNode:\n",
    "#     def __init__(self, val=0, left=None, right=None):\n",
    "#         self.val = val\n",
    "#         self.left = left\n",
    "#         self.right = right\n",
    "class Solution:\n",
    "    def recurse(self, node, height):\n",
    "        if node == None:\n",
    "            return height\n",
    "\n",
    "        height += 1\n",
    "        \n",
    "        return max(self.recurse(node.left, height), self.recurse(node.right, height))\n",
    "        \n",
    "    def maxDepth(self, root: Optional[TreeNode]) -> int:\n",
    "        return self.recurse(root, 0)\n",
    "        "
   ]
  },
  {
   "attachments": {},
   "cell_type": "markdown",
   "metadata": {},
   "source": [
    "### Complexity Analysis ###\n",
    "\n",
    "## Time ##\n",
    "\n",
    "- O(N), where N is the number of nodes in the tree. \n",
    "- We look at every node in the tree once\n",
    "\n",
    "## Space ##\n",
    "\n",
    "- Worst case: O(N)\n",
    "    - the tree is unbalanced, so we will have a max of N stack frames at once.\n",
    "- Average case: O(logN)\n",
    "    - the tree is balanced, so we will have log N stack frames at once.\n"
   ]
  }
 ],
 "metadata": {
  "kernelspec": {
   "display_name": "base",
   "language": "python",
   "name": "python3"
  },
  "language_info": {
   "name": "python",
   "version": "3.10.9"
  },
  "orig_nbformat": 4
 },
 "nbformat": 4,
 "nbformat_minor": 2
}
