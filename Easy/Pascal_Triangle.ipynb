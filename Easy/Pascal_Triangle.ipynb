{
 "cells": [
  {
   "attachments": {},
   "cell_type": "markdown",
   "metadata": {},
   "source": [
    "### Problem Statement ###\n",
    "\n",
    "Given an integer numRows, return the first numRows of Pascal's triangle.\n",
    "\n",
    "In Pascal's triangle, each number is the sum of the two numbers directly above it as shown:"
   ]
  },
  {
   "cell_type": "code",
   "execution_count": null,
   "metadata": {},
   "outputs": [],
   "source": [
    "class Solution:\n",
    "    def generate(self, numRows: int) -> List[List[int]]:\n",
    "        res =  [[1], [1,1]]\n",
    "\n",
    "        if numRows == 0: return []\n",
    "        if numRows == 1: return [[1]]\n",
    "        if numRows == 2: return [[1], [1,1]]\n",
    "        for i in range(0, numRows-2):\n",
    "            last_row = res[-1]\n",
    "            temp = []\n",
    "            temp.append(1)\n",
    "            for j in range(0, len(last_row)-1):\n",
    "                temp.append(last_row[j] + last_row[j+1])\n",
    "            temp.append(1)\n",
    "            res.append(temp)\n",
    "        return res"
   ]
  },
  {
   "attachments": {},
   "cell_type": "markdown",
   "metadata": {},
   "source": [
    "### Complexity Analysis ###\n",
    "\n",
    "## Time ##\n",
    "\n",
    "- O(N^2)\n",
    "\n",
    "## Space ##\n",
    "\n",
    "- O(1)"
   ]
  }
 ],
 "metadata": {
  "kernelspec": {
   "display_name": "base",
   "language": "python",
   "name": "python3"
  },
  "language_info": {
   "name": "python",
   "version": "3.10.9"
  },
  "orig_nbformat": 4
 },
 "nbformat": 4,
 "nbformat_minor": 2
}
