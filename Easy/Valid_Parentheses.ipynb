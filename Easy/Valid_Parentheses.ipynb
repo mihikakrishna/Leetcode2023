{
 "cells": [
  {
   "attachments": {},
   "cell_type": "markdown",
   "metadata": {},
   "source": [
    "### Problem Statement ###\n",
    "\n",
    "Given a string s containing just the characters '(', ')', '{', '}', '[' and ']', determine if the input string is valid.\n",
    "\n",
    "An input string is valid if:\n",
    "\n",
    "Open brackets must be closed by the same type of brackets.\n",
    "Open brackets must be closed in the correct order.\n",
    "Every close bracket has a corresponding open bracket of the same type."
   ]
  },
  {
   "cell_type": "code",
   "execution_count": null,
   "metadata": {},
   "outputs": [],
   "source": [
    "from collections import deque\n",
    "class Solution:\n",
    "    def isValid(self, s: str) -> bool:\n",
    "        parenthesesDict = {\n",
    "            ')': '(', \n",
    "            '}': '{', \n",
    "            ']' :'['\n",
    "        }\n",
    "\n",
    "        stack = deque()\n",
    "\n",
    "        for c in s:\n",
    "            if c not in parenthesesDict: \n",
    "                stack.append(c)\n",
    "            elif stack and stack.pop() == parenthesesDict[c]: \n",
    "                continue\n",
    "            else: \n",
    "                return False\n",
    "                \n",
    "        return False if stack else True"
   ]
  },
  {
   "attachments": {},
   "cell_type": "markdown",
   "metadata": {},
   "source": [
    "### Complexity Analysis ###\n",
    "\n",
    "## Time ##\n",
    "\n",
    "- O(N), where N is the length of the input string\n",
    "    - We are looking at every character in the string exactly once\n",
    "    - Adding and removing from the stack is O(1)\n",
    "\n",
    "## Space ##\n",
    "\n",
    "- O(N), where N is the length of the input string\n",
    "- In the worst case, we will need to hold the entire string on the stack"
   ]
  }
 ],
 "metadata": {
  "kernelspec": {
   "display_name": "base",
   "language": "python",
   "name": "python3"
  },
  "language_info": {
   "name": "python",
   "version": "3.10.9"
  },
  "orig_nbformat": 4
 },
 "nbformat": 4,
 "nbformat_minor": 2
}
