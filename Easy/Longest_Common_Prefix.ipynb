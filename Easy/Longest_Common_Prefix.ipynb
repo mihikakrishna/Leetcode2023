{
 "cells": [
  {
   "attachments": {},
   "cell_type": "markdown",
   "metadata": {},
   "source": [
    "### Problem Statement ###\n",
    "\n",
    "Write a function to find the longest common prefix string amongst an array of strings.\n",
    "\n",
    "If there is no common prefix, return an empty string \"\".\n"
   ]
  },
  {
   "cell_type": "code",
   "execution_count": null,
   "metadata": {},
   "outputs": [],
   "source": [
    "class Solution:\n",
    "    def longestCommonPrefix(self, strs: List[str]) -> str:\n",
    "        s1 = min(strs)\n",
    "        s2 = max(strs)\n",
    "        i = 0\n",
    "        while i < min(len(s1),len(s2)) and s1[i] == s2[i]:\n",
    "            i += 1\n",
    "        return s1[:i]"
   ]
  },
  {
   "attachments": {},
   "cell_type": "markdown",
   "metadata": {},
   "source": [
    "### Complexity Analysis ###\n",
    "\n",
    "## Time ##\n",
    "\n",
    "- O(NM), N is length of input array, M is length of longest word in input array\n",
    "    - To find the min and max strings in the input array, we are going through each string in the input and going through each character in each string.\n",
    "\n",
    "## Space ##\n",
    "\n",
    "- If output space is not included : O(1)\n",
    "- If output space is included : O(M). M is length of longest word in input array\n",
    "    \n"
   ]
  }
 ],
 "metadata": {
  "kernelspec": {
   "display_name": "base",
   "language": "python",
   "name": "python3"
  },
  "language_info": {
   "name": "python",
   "version": "3.10.9"
  },
  "orig_nbformat": 4
 },
 "nbformat": 4,
 "nbformat_minor": 2
}
