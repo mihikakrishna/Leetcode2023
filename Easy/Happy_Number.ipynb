{
 "cells": [
  {
   "attachments": {},
   "cell_type": "markdown",
   "metadata": {},
   "source": [
    "### Problem Statement ###\n",
    "\n",
    "\n",
    "Write an algorithm to determine if a number n is happy.\n",
    "\n",
    "A happy number is a number defined by the following process:\n",
    "\n",
    "Starting with any positive integer, replace the number by the sum of the squares of its digits.\n",
    "Repeat the process until the number equals 1 (where it will stay), or it loops endlessly in a cycle which does not include 1.\n",
    "Those numbers for which this process ends in 1 are happy.\n",
    "Return true if n is a happy number, and false if not."
   ]
  },
  {
   "cell_type": "code",
   "execution_count": null,
   "metadata": {},
   "outputs": [],
   "source": [
    "class Solution:\n",
    "    def isHappy(self, n: int) -> bool:\n",
    "        seen = set()\n",
    "\n",
    "        while n not in seen:\n",
    "            seen.add(n)\n",
    "            n = self.sumOfSquares(n)\n",
    "            if n == 1:\n",
    "                return True\n",
    "        \n",
    "        return False\n",
    "\n",
    "    def sumOfSquares(self, n):\n",
    "        res = 0\n",
    "\n",
    "        while n:\n",
    "            digit = n % 10\n",
    "            res += digit * digit\n",
    "            n = n // 10\n",
    "        \n",
    "        return res"
   ]
  },
  {
   "attachments": {},
   "cell_type": "markdown",
   "metadata": {},
   "source": [
    "### Complexity Analysis ###\n",
    "\n",
    "## Time ##\n",
    "\n",
    "-  O(min(n,m)) where n is the number of times you do sumOfSquares before getting back to starting num. And m is the number of sumOfSquares you do before reaching 1\n",
    "\n",
    "## Space ##\n",
    "\n",
    "- O(N)"
   ]
  }
 ],
 "metadata": {
  "kernelspec": {
   "display_name": "base",
   "language": "python",
   "name": "python3"
  },
  "language_info": {
   "name": "python",
   "version": "3.10.9"
  },
  "orig_nbformat": 4
 },
 "nbformat": 4,
 "nbformat_minor": 2
}
