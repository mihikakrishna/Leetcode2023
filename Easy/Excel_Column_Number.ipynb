{
 "cells": [
  {
   "attachments": {},
   "cell_type": "markdown",
   "metadata": {},
   "source": [
    "### Problem Statement ###\n",
    "\n",
    "Given a string columnTitle that represents the column title as appears in an Excel sheet, return its corresponding column number."
   ]
  },
  {
   "attachments": {},
   "cell_type": "markdown",
   "metadata": {},
   "source": [
    "#### Naive Approach ####\n",
    "\n",
    "Pow"
   ]
  },
  {
   "cell_type": "code",
   "execution_count": null,
   "metadata": {},
   "outputs": [],
   "source": [
    "class Solution:\n",
    "    def titleToNumber(self, columnTitle: str) -> int:\n",
    "        columnNumber = 0\n",
    "\n",
    "        for i in range(len(columnTitle)):\n",
    "            charVal = ord(columnTitle[i]) - ord('A') + 1\n",
    "            columnNumber += charVal * pow(26, len(columnTitle) - i - 1)\n",
    "\n",
    "        return columnNumber"
   ]
  },
  {
   "attachments": {},
   "cell_type": "markdown",
   "metadata": {},
   "source": [
    "### Complexity Analysis ###\n",
    "\n",
    "## Time ##\n",
    "\n",
    "- O(N^2) - N = len(columntitle)\n",
    "    - Pow has a time complexity of O(N)!\n",
    "\n",
    "## Space ##\n",
    "\n",
    "- O(1)"
   ]
  },
  {
   "attachments": {},
   "cell_type": "markdown",
   "metadata": {},
   "source": [
    "#### Optimal Approach ####"
   ]
  },
  {
   "cell_type": "code",
   "execution_count": null,
   "metadata": {},
   "outputs": [],
   "source": [
    "class Solution:\n",
    "    def titleToNumber(self, columnTitle: str) -> int:\n",
    "        columnNumber = 0\n",
    "        power = 1\n",
    "\n",
    "        for i in range(len(columnTitle) - 1, -1 ,-1):\n",
    "            charVal = ord(columnTitle[i]) - ord('A') + 1\n",
    "            columnNumber += charVal * power\n",
    "            power *= 26\n",
    "\n",
    "        return columnNumber"
   ]
  },
  {
   "attachments": {},
   "cell_type": "markdown",
   "metadata": {},
   "source": [
    "### Complexity Analysis ###\n",
    "\n",
    "## Time ##\n",
    "\n",
    "- O(N) - N = len(columntitle)\n",
    "\n",
    "## Space ##\n",
    "\n",
    "- O(1)"
   ]
  }
 ],
 "metadata": {
  "kernelspec": {
   "display_name": "base",
   "language": "python",
   "name": "python3"
  },
  "language_info": {
   "name": "python",
   "version": "3.10.9"
  },
  "orig_nbformat": 4
 },
 "nbformat": 4,
 "nbformat_minor": 2
}
