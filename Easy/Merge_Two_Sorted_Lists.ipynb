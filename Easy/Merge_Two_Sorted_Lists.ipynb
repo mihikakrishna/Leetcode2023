{
 "cells": [
  {
   "attachments": {},
   "cell_type": "markdown",
   "metadata": {},
   "source": [
    "### Problem Statement ###\n",
    "\n",
    "You are given the heads of two sorted linked lists list1 and list2.\n",
    "\n",
    "Merge the two lists in a one sorted list. The list should be made by splicing together the nodes of the first two lists.\n",
    "\n",
    "Return the head of the merged linked list."
   ]
  },
  {
   "cell_type": "code",
   "execution_count": null,
   "metadata": {},
   "outputs": [],
   "source": [
    "# Definition for singly-linked list.\n",
    "# class ListNode:\n",
    "#     def __init__(self, val=0, next=None):\n",
    "#         self.val = val\n",
    "#         self.next = next\n",
    "class Solution:\n",
    "    def mergeTwoLists(self, list1: Optional[ListNode], list2: Optional[ListNode]) -> Optional[ListNode]:\n",
    "        head = ListNode()\n",
    "        prevNode = head\n",
    "\n",
    "        node1 = list1\n",
    "        node2 = list2\n",
    "\n",
    "        while node1 != None and node2 != None:\n",
    "            if node1.val <= node2.val:\n",
    "                currNode = ListNode(node1.val)\n",
    "                node1 = node1.next\n",
    "            else:\n",
    "                currNode = ListNode(node2.val)\n",
    "                node2 = node2.next\n",
    "            prevNode.next = currNode\n",
    "            prevNode = prevNode.next\n",
    "\n",
    "        if node2 != None:\n",
    "            prevNode.next = node2\n",
    "\n",
    "        elif node1 != None:\n",
    "            prevNode.next = node1\n",
    "\n",
    "\n",
    "        return head.next"
   ]
  },
  {
   "attachments": {},
   "cell_type": "markdown",
   "metadata": {},
   "source": [
    "### Complexity Analysis ###\n",
    "\n",
    "## Time ##\n",
    "\n",
    "- O(N), where N = max(len(list1), len(list2))\n",
    "    - We are essentially looking at all the nodes in the two lists in order to merge them\n",
    "\n",
    "\n",
    "## Space ##\n",
    "\n",
    "- O(1)\n",
    "    - We only store data in local variables"
   ]
  }
 ],
 "metadata": {
  "kernelspec": {
   "display_name": "base",
   "language": "python",
   "name": "python3"
  },
  "language_info": {
   "name": "python",
   "version": "3.10.9"
  },
  "orig_nbformat": 4
 },
 "nbformat": 4,
 "nbformat_minor": 2
}
