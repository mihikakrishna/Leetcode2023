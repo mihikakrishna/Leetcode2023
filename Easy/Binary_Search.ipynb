{
 "cells": [
  {
   "attachments": {},
   "cell_type": "markdown",
   "metadata": {},
   "source": [
    "### Problem Statement ###\n",
    "\n",
    "Given an array of integers nums which is sorted in ascending order, and an integer target, write a function to search target in nums. If target exists, then return its index. Otherwise, return -1.\n",
    "\n",
    "You must write an algorithm with O(log n) runtime complexity."
   ]
  },
  {
   "cell_type": "code",
   "execution_count": null,
   "metadata": {},
   "outputs": [],
   "source": [
    "class Solution:\n",
    "    def search(self, nums: List[int], target: int) -> int:\n",
    "        l = 0\n",
    "        h = len(nums) - 1\n",
    "\n",
    "        while l <= h:\n",
    "            m = l + ((h - l) // 2) # to handle integer overflow - will never go above h\n",
    "\n",
    "            if nums[m] > target:\n",
    "                h = m - 1\n",
    "            elif nums[m] < target:\n",
    "                l = m + 1\n",
    "            else:\n",
    "                return m\n",
    "        \n",
    "        return -1"
   ]
  },
  {
   "attachments": {},
   "cell_type": "markdown",
   "metadata": {},
   "source": [
    "### Complexity Analysis ###\n",
    "\n",
    "## Time ##\n",
    "\n",
    "- log_2(N), N = size of input array\n",
    "    - When we do a binary search, we divide into sections of 2 until we cannot divide any further. We can find how many times we can divide into 2 by using log_2(N)\n",
    "\n",
    "## Space ##\n",
    "\n",
    "- O(1)\n",
    "    - No auxiliary space except for local variables"
   ]
  }
 ],
 "metadata": {
  "kernelspec": {
   "display_name": "base",
   "language": "python",
   "name": "python3"
  },
  "language_info": {
   "name": "python",
   "version": "3.10.9"
  },
  "orig_nbformat": 4
 },
 "nbformat": 4,
 "nbformat_minor": 2
}
