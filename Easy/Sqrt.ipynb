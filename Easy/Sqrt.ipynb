{
 "cells": [
  {
   "attachments": {},
   "cell_type": "markdown",
   "metadata": {},
   "source": [
    "### Problem Statement ###\n"
   ]
  },
  {
   "attachments": {},
   "cell_type": "markdown",
   "metadata": {},
   "source": [
    "#### Approach 1 - Brute Force ####"
   ]
  },
  {
   "cell_type": "code",
   "execution_count": null,
   "metadata": {},
   "outputs": [],
   "source": [
    "class Solution:\n",
    "    def mySqrt(self, x: int) -> int:\n",
    "        for i in range(sys.maxsize):\n",
    "            if i * i == x:\n",
    "                return i\n",
    "            if i * i > x:\n",
    "                return i - 1"
   ]
  },
  {
   "attachments": {},
   "cell_type": "markdown",
   "metadata": {},
   "source": [
    "### Complexity Analysis ###\n",
    "\n",
    "## Time ##\n",
    "\n",
    "- O(sqrt(N)) ~ O(N)\n",
    "\n",
    "## Space ##\n",
    "\n",
    "- O(1)"
   ]
  },
  {
   "attachments": {},
   "cell_type": "markdown",
   "metadata": {},
   "source": [
    "#### Approach 2 - Binary Search ####"
   ]
  },
  {
   "cell_type": "code",
   "execution_count": null,
   "metadata": {},
   "outputs": [],
   "source": [
    "class Solution:\n",
    "    def mySqrt(self, x: int) -> int:\n",
    "        l = 0\n",
    "        r = x\n",
    "\n",
    "        while l <= r:\n",
    "            m = l + (r - l) // 2\n",
    "\n",
    "            if m * m > x:\n",
    "                r = m - 1\n",
    "            elif m * m < x:\n",
    "                l = m + 1\n",
    "            else:\n",
    "                return m\n",
    "\n",
    "        return l - 1\n"
   ]
  },
  {
   "attachments": {},
   "cell_type": "markdown",
   "metadata": {},
   "source": [
    "### Complexity Analysis ###\n",
    "\n",
    "## Time ##\n",
    "\n",
    "- O(log(N))\n",
    "\n",
    "## Space ##\n",
    "\n",
    "- O(1)"
   ]
  }
 ],
 "metadata": {
  "kernelspec": {
   "display_name": "base",
   "language": "python",
   "name": "python3"
  },
  "language_info": {
   "name": "python",
   "version": "3.10.9"
  },
  "orig_nbformat": 4
 },
 "nbformat": 4,
 "nbformat_minor": 2
}
