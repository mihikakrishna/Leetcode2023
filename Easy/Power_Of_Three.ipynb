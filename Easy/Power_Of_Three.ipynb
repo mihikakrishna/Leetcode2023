{
 "cells": [
  {
   "attachments": {},
   "cell_type": "markdown",
   "metadata": {},
   "source": [
    "### Problem Statement ###\n",
    "\n",
    "Given an integer n, return true if it is a power of three. Otherwise, return false.\n",
    "\n",
    "An integer n is a power of three, if there exists an integer x such that n == 3x.\n"
   ]
  },
  {
   "cell_type": "code",
   "execution_count": null,
   "metadata": {},
   "outputs": [],
   "source": [
    "class Solution:\n",
    "    def isPowerOfThree(self, n: int) -> bool:\n",
    "        while n > 1:\n",
    "            n = n / 3\n",
    "        \n",
    "        if n == 1:\n",
    "            return True\n",
    "        return False"
   ]
  },
  {
   "attachments": {},
   "cell_type": "markdown",
   "metadata": {},
   "source": [
    "### Complexity Analysis ###\n",
    "\n",
    "## Time ##\n",
    "\n",
    "- O(log_3(n)), n is input number\n",
    "    - Since we repeatedly divide by 3, it will take log_3(n) iterations to get to the base case ( n <= 1)\n",
    "\n",
    "## Space ##\n",
    "\n",
    "- O(1)\n",
    "    - We do not use additional space"
   ]
  }
 ],
 "metadata": {
  "kernelspec": {
   "display_name": "base",
   "language": "python",
   "name": "python3"
  },
  "language_info": {
   "name": "python",
   "version": "3.10.9"
  },
  "orig_nbformat": 4
 },
 "nbformat": 4,
 "nbformat_minor": 2
}
