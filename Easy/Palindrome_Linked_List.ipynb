{
 "cells": [
  {
   "attachments": {},
   "cell_type": "markdown",
   "metadata": {},
   "source": [
    "### Problem Statement ###\n",
    "\n",
    "Given the head of a singly linked list, return true if it is a palindrome or false otherwise."
   ]
  },
  {
   "attachments": {},
   "cell_type": "markdown",
   "metadata": {},
   "source": [
    "#### Naive Approach ####\n",
    "\n",
    "Stack"
   ]
  },
  {
   "cell_type": "code",
   "execution_count": null,
   "metadata": {},
   "outputs": [],
   "source": [
    "# Definition for singly-linked list.\n",
    "# class ListNode:\n",
    "#     def __init__(self, val=0, next=None):\n",
    "#         self.val = val\n",
    "#         self.next = next\n",
    "from collections import deque\n",
    "class Solution:\n",
    "    def isPalindrome(self, head: Optional[ListNode]) -> bool:\n",
    "        stack = deque()\n",
    "        currNode = head\n",
    "\n",
    "        while currNode != None:\n",
    "            stack.append(currNode.val)\n",
    "            currNode = currNode.next\n",
    "\n",
    "        currNode = head\n",
    "\n",
    "        while currNode != None:\n",
    "            if currNode.val != stack.pop():\n",
    "                return False\n",
    "            currNode = currNode.next\n",
    "\n",
    "        return True"
   ]
  },
  {
   "attachments": {},
   "cell_type": "markdown",
   "metadata": {},
   "source": [
    "### Complexity Analysis ###\n",
    "\n",
    "## Time ##\n",
    "\n",
    "- O(N), N = # of elemetns in the LL\n",
    "    - Since we iterate through all the elements in the list to 1) Create the stack 2) Check if palindrome\n",
    "\n",
    "## Space ##\n",
    "\n",
    "- O(N)\n",
    "    - Our stack will have N elements"
   ]
  },
  {
   "attachments": {},
   "cell_type": "markdown",
   "metadata": {},
   "source": [
    "#### Optimal Approach ####"
   ]
  }
 ],
 "metadata": {
  "kernelspec": {
   "display_name": "base",
   "language": "python",
   "name": "python3"
  },
  "language_info": {
   "name": "python",
   "version": "3.10.9"
  },
  "orig_nbformat": 4
 },
 "nbformat": 4,
 "nbformat_minor": 2
}
