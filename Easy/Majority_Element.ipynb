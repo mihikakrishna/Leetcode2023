{
 "cells": [
  {
   "attachments": {},
   "cell_type": "markdown",
   "metadata": {},
   "source": [
    "### Problem Statement ###\n",
    "\n",
    "Given an array nums of size n, return the majority element.\n",
    "\n",
    "The majority element is the element that appears more than ⌊n / 2⌋ times. You may assume that the majority element always exists in the array."
   ]
  },
  {
   "attachments": {},
   "cell_type": "markdown",
   "metadata": {},
   "source": [
    "#### Naive Approach - Sorting #### "
   ]
  },
  {
   "cell_type": "code",
   "execution_count": null,
   "metadata": {},
   "outputs": [],
   "source": [
    "class Solution:\n",
    "    def majorityElement(self, nums: List[int]) -> int:\n",
    "\n",
    "        if len(nums) == 1:\n",
    "            return nums[0]\n",
    "\n",
    "        nums.sort()\n",
    "\n",
    "        count = 0\n",
    "\n",
    "        for i in range(1, len(nums)):\n",
    "            if nums[i-1] == nums[i]:\n",
    "                count += 1\n",
    "                if count == len(nums) // 2:\n",
    "                    return nums[i]\n",
    "            else:\n",
    "                count = 0"
   ]
  },
  {
   "attachments": {},
   "cell_type": "markdown",
   "metadata": {},
   "source": [
    "### Complexity Analysis ###\n",
    "\n",
    "## Time ##\n",
    "\n",
    "- O(NlogN), N = len(nums)\n",
    "    - We are sorting the array, so it will take NlogN time overall\n",
    "\n",
    "## Space ##\n",
    "\n",
    "- O(1)\n",
    "    - We do not use any auxiliary space"
   ]
  },
  {
   "attachments": {},
   "cell_type": "markdown",
   "metadata": {},
   "source": [
    "#### Optimal Approach ####\n",
    "\n",
    "Keep track of the majority element and its count so far. As you iterate, if the elements do not match the majority element, decrement the majority element's count. If the count hits zero, reassign the majority element."
   ]
  },
  {
   "cell_type": "code",
   "execution_count": null,
   "metadata": {},
   "outputs": [],
   "source": [
    "class Solution:\n",
    "    def majorityElement(self, nums: List[int]) -> int:\n",
    "\n",
    "        majority_element = nums[0]\n",
    "        count = 1\n",
    "\n",
    "        for i in range(1, len(nums)):\n",
    "            if nums[i] == majority_element:\n",
    "                count += 1\n",
    "            else:\n",
    "                count -= 1\n",
    "            if count == 0:\n",
    "                majority_element = nums[i]\n",
    "                count = 1\n",
    "        \n",
    "        return majority_element"
   ]
  },
  {
   "attachments": {},
   "cell_type": "markdown",
   "metadata": {},
   "source": [
    "### Complexity Analysis ###\n",
    "\n",
    "## Time ##\n",
    "\n",
    "- O(N), N = len(nums)\n",
    "    - We iterate through the whole array\n",
    "\n",
    "## Space ##\n",
    "\n",
    "- O(1)\n",
    "    - We do not use any auxiliary space"
   ]
  }
 ],
 "metadata": {
  "kernelspec": {
   "display_name": "base",
   "language": "python",
   "name": "python3"
  },
  "language_info": {
   "name": "python",
   "version": "3.10.9"
  },
  "orig_nbformat": 4
 },
 "nbformat": 4,
 "nbformat_minor": 2
}
