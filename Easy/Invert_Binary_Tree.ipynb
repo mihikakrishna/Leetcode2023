{
 "cells": [
  {
   "attachments": {},
   "cell_type": "markdown",
   "metadata": {},
   "source": [
    "### Problem Statement ###\n",
    "Given the root of a binary tree, invert the tree, and return its root."
   ]
  },
  {
   "cell_type": "code",
   "execution_count": null,
   "metadata": {},
   "outputs": [],
   "source": [
    "# Definition for a binary tree node.\n",
    "# class TreeNode:\n",
    "#     def __init__(self, val=0, left=None, right=None):\n",
    "#         self.val = val\n",
    "#         self.left = left\n",
    "#         self.right = right\n",
    "class Solution:\n",
    "    def traverse(self, node):\n",
    "        if node == None:\n",
    "            return None\n",
    "\n",
    "        l_node = self.traverse(node.left)\n",
    "        r_node = self.traverse(node.right)\n",
    "\n",
    "        node.left = r_node\n",
    "        node.right = l_node\n",
    "\n",
    "        return node        \n",
    "        \n",
    "    def invertTree(self, root: Optional[TreeNode]) -> Optional[TreeNode]:\n",
    "        return self.traverse(root)"
   ]
  },
  {
   "attachments": {},
   "cell_type": "markdown",
   "metadata": {},
   "source": [
    "### Complexity Analysis ###\n",
    "\n",
    "## Time ##\n",
    "\n",
    "- O(N), N = number nodes in the tree\n",
    "    - Since we are iterating through every node in the tree\n",
    "\n",
    "## Space ##\n",
    "\n",
    "- Worst case - O(N)\n",
    "- Average case - O(logN)"
   ]
  }
 ],
 "metadata": {
  "kernelspec": {
   "display_name": "base",
   "language": "python",
   "name": "python3"
  },
  "language_info": {
   "name": "python",
   "version": "3.10.9"
  },
  "orig_nbformat": 4
 },
 "nbformat": 4,
 "nbformat_minor": 2
}
